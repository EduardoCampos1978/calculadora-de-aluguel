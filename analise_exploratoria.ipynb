{
  "nbformat": 4,
  "nbformat_minor": 0,
  "metadata": {
    "colab": {
      "name": "analise-exploratoria.ipynb",
      "provenance": [],
      "authorship_tag": "ABX9TyNKlirZyiYePH3q39fs1PPn",
      "include_colab_link": true
    },
    "kernelspec": {
      "name": "python3",
      "display_name": "Python 3"
    }
  },
  "cells": [
    {
      "cell_type": "markdown",
      "metadata": {
        "id": "view-in-github",
        "colab_type": "text"
      },
      "source": [
        "<a href=\"https://colab.research.google.com/github/Mario-RJunior/calculadora-imoveis/blob/master/analise_exploratoria.ipynb\" target=\"_parent\"><img src=\"https://colab.research.google.com/assets/colab-badge.svg\" alt=\"Open In Colab\"/></a>"
      ]
    },
    {
      "cell_type": "markdown",
      "metadata": {
        "id": "IkeiPewsufrC",
        "colab_type": "text"
      },
      "source": [
        "# Análise Exploratória dos Dados"
      ]
    },
    {
      "cell_type": "code",
      "metadata": {
        "id": "pZ63-Omdpd2B",
        "colab_type": "code",
        "colab": {}
      },
      "source": [
        "# Importanto as bibliotecas\n",
        "import pandas as pd\n",
        "import matplotlib.pyplot as plt\n",
        "import seaborn as sns\n",
        "import numpy as np"
      ],
      "execution_count": 10,
      "outputs": []
    },
    {
      "cell_type": "code",
      "metadata": {
        "id": "GgsjstuSp7cB",
        "colab_type": "code",
        "colab": {}
      },
      "source": [
        "# Recuperando o link da base de dados gerada no estudo de web scraping\n",
        "LINK = 'https://raw.githubusercontent.com/Mario-RJunior/web-scraping-ML/master/dados_imoveis.csv'"
      ],
      "execution_count": 2,
      "outputs": []
    },
    {
      "cell_type": "code",
      "metadata": {
        "id": "jcNN99fIqDjv",
        "colab_type": "code",
        "colab": {
          "base_uri": "https://localhost:8080/",
          "height": 204
        },
        "outputId": "ddf1a871-efc4-4b8f-f59e-243552387808"
      },
      "source": [
        "# Gerando o dataframe\n",
        "df = pd.read_csv(LINK)\n",
        "df.drop(columns='Unnamed: 0', inplace=True)\n",
        "df.head()"
      ],
      "execution_count": 3,
      "outputs": [
        {
          "output_type": "execute_result",
          "data": {
            "text/html": [
              "<div>\n",
              "<style scoped>\n",
              "    .dataframe tbody tr th:only-of-type {\n",
              "        vertical-align: middle;\n",
              "    }\n",
              "\n",
              "    .dataframe tbody tr th {\n",
              "        vertical-align: top;\n",
              "    }\n",
              "\n",
              "    .dataframe thead th {\n",
              "        text-align: right;\n",
              "    }\n",
              "</style>\n",
              "<table border=\"1\" class=\"dataframe\">\n",
              "  <thead>\n",
              "    <tr style=\"text-align: right;\">\n",
              "      <th></th>\n",
              "      <th>zona</th>\n",
              "      <th>quartos</th>\n",
              "      <th>area</th>\n",
              "      <th>preco</th>\n",
              "    </tr>\n",
              "  </thead>\n",
              "  <tbody>\n",
              "    <tr>\n",
              "      <th>0</th>\n",
              "      <td>norte</td>\n",
              "      <td>2.0</td>\n",
              "      <td>90</td>\n",
              "      <td>990.000</td>\n",
              "    </tr>\n",
              "    <tr>\n",
              "      <th>1</th>\n",
              "      <td>norte</td>\n",
              "      <td>2.0</td>\n",
              "      <td>55</td>\n",
              "      <td>1.600</td>\n",
              "    </tr>\n",
              "    <tr>\n",
              "      <th>2</th>\n",
              "      <td>norte</td>\n",
              "      <td>3.0</td>\n",
              "      <td>136</td>\n",
              "      <td>4.500</td>\n",
              "    </tr>\n",
              "    <tr>\n",
              "      <th>3</th>\n",
              "      <td>norte</td>\n",
              "      <td>2.0</td>\n",
              "      <td>51</td>\n",
              "      <td>1.326</td>\n",
              "    </tr>\n",
              "    <tr>\n",
              "      <th>4</th>\n",
              "      <td>norte</td>\n",
              "      <td>1.0</td>\n",
              "      <td>28</td>\n",
              "      <td>900.000</td>\n",
              "    </tr>\n",
              "  </tbody>\n",
              "</table>\n",
              "</div>"
            ],
            "text/plain": [
              "    zona  quartos  area    preco\n",
              "0  norte      2.0    90  990.000\n",
              "1  norte      2.0    55    1.600\n",
              "2  norte      3.0   136    4.500\n",
              "3  norte      2.0    51    1.326\n",
              "4  norte      1.0    28  900.000"
            ]
          },
          "metadata": {
            "tags": []
          },
          "execution_count": 3
        }
      ]
    },
    {
      "cell_type": "code",
      "metadata": {
        "id": "lra6iyNzqRta",
        "colab_type": "code",
        "colab": {
          "base_uri": "https://localhost:8080/",
          "height": 297
        },
        "outputId": "a8094332-37ba-4a80-b45e-14998e176d69"
      },
      "source": [
        "# Verificando dados estatísticos\n",
        "df.describe()"
      ],
      "execution_count": 4,
      "outputs": [
        {
          "output_type": "execute_result",
          "data": {
            "text/html": [
              "<div>\n",
              "<style scoped>\n",
              "    .dataframe tbody tr th:only-of-type {\n",
              "        vertical-align: middle;\n",
              "    }\n",
              "\n",
              "    .dataframe tbody tr th {\n",
              "        vertical-align: top;\n",
              "    }\n",
              "\n",
              "    .dataframe thead th {\n",
              "        text-align: right;\n",
              "    }\n",
              "</style>\n",
              "<table border=\"1\" class=\"dataframe\">\n",
              "  <thead>\n",
              "    <tr style=\"text-align: right;\">\n",
              "      <th></th>\n",
              "      <th>quartos</th>\n",
              "      <th>area</th>\n",
              "      <th>preco</th>\n",
              "    </tr>\n",
              "  </thead>\n",
              "  <tbody>\n",
              "    <tr>\n",
              "      <th>count</th>\n",
              "      <td>1342.000000</td>\n",
              "      <td>1344.000000</td>\n",
              "      <td>1344.000000</td>\n",
              "    </tr>\n",
              "    <tr>\n",
              "      <th>mean</th>\n",
              "      <td>1.895678</td>\n",
              "      <td>83.278274</td>\n",
              "      <td>59.439588</td>\n",
              "    </tr>\n",
              "    <tr>\n",
              "      <th>std</th>\n",
              "      <td>0.773052</td>\n",
              "      <td>204.359982</td>\n",
              "      <td>209.995727</td>\n",
              "    </tr>\n",
              "    <tr>\n",
              "      <th>min</th>\n",
              "      <td>1.000000</td>\n",
              "      <td>8.000000</td>\n",
              "      <td>1.000000</td>\n",
              "    </tr>\n",
              "    <tr>\n",
              "      <th>25%</th>\n",
              "      <td>1.000000</td>\n",
              "      <td>45.000000</td>\n",
              "      <td>1.500000</td>\n",
              "    </tr>\n",
              "    <tr>\n",
              "      <th>50%</th>\n",
              "      <td>2.000000</td>\n",
              "      <td>60.000000</td>\n",
              "      <td>2.080000</td>\n",
              "    </tr>\n",
              "    <tr>\n",
              "      <th>75%</th>\n",
              "      <td>2.000000</td>\n",
              "      <td>82.000000</td>\n",
              "      <td>3.250000</td>\n",
              "    </tr>\n",
              "    <tr>\n",
              "      <th>max</th>\n",
              "      <td>5.000000</td>\n",
              "      <td>7000.000000</td>\n",
              "      <td>990.000000</td>\n",
              "    </tr>\n",
              "  </tbody>\n",
              "</table>\n",
              "</div>"
            ],
            "text/plain": [
              "           quartos         area        preco\n",
              "count  1342.000000  1344.000000  1344.000000\n",
              "mean      1.895678    83.278274    59.439588\n",
              "std       0.773052   204.359982   209.995727\n",
              "min       1.000000     8.000000     1.000000\n",
              "25%       1.000000    45.000000     1.500000\n",
              "50%       2.000000    60.000000     2.080000\n",
              "75%       2.000000    82.000000     3.250000\n",
              "max       5.000000  7000.000000   990.000000"
            ]
          },
          "metadata": {
            "tags": []
          },
          "execution_count": 4
        }
      ]
    },
    {
      "cell_type": "code",
      "metadata": {
        "id": "gyj87siMqyOO",
        "colab_type": "code",
        "colab": {
          "base_uri": "https://localhost:8080/",
          "height": 102
        },
        "outputId": "24d55034-dc35-471e-a0f1-5bea7b07bd1a"
      },
      "source": [
        "# Verificando valores nulos\n",
        "df.isna().sum()"
      ],
      "execution_count": 5,
      "outputs": [
        {
          "output_type": "execute_result",
          "data": {
            "text/plain": [
              "zona       0\n",
              "quartos    2\n",
              "area       0\n",
              "preco      0\n",
              "dtype: int64"
            ]
          },
          "metadata": {
            "tags": []
          },
          "execution_count": 5
        }
      ]
    },
    {
      "cell_type": "code",
      "metadata": {
        "id": "hkqg4Zb3vF6K",
        "colab_type": "code",
        "colab": {
          "base_uri": "https://localhost:8080/",
          "height": 102
        },
        "outputId": "559dd0dc-43a4-416f-d313-3b8adade5840"
      },
      "source": [
        "# Verificando os tipos das variáveis\n",
        "df.dtypes"
      ],
      "execution_count": 6,
      "outputs": [
        {
          "output_type": "execute_result",
          "data": {
            "text/plain": [
              "zona        object\n",
              "quartos    float64\n",
              "area         int64\n",
              "preco      float64\n",
              "dtype: object"
            ]
          },
          "metadata": {
            "tags": []
          },
          "execution_count": 6
        }
      ]
    },
    {
      "cell_type": "code",
      "metadata": {
        "id": "i-e3S7_awXME",
        "colab_type": "code",
        "colab": {
          "base_uri": "https://localhost:8080/",
          "height": 142
        },
        "outputId": "a9141074-34c4-47e1-937c-4dccf00c25b2"
      },
      "source": [
        "# Verificando a correlação\n",
        "df.corr()"
      ],
      "execution_count": 7,
      "outputs": [
        {
          "output_type": "execute_result",
          "data": {
            "text/html": [
              "<div>\n",
              "<style scoped>\n",
              "    .dataframe tbody tr th:only-of-type {\n",
              "        vertical-align: middle;\n",
              "    }\n",
              "\n",
              "    .dataframe tbody tr th {\n",
              "        vertical-align: top;\n",
              "    }\n",
              "\n",
              "    .dataframe thead th {\n",
              "        text-align: right;\n",
              "    }\n",
              "</style>\n",
              "<table border=\"1\" class=\"dataframe\">\n",
              "  <thead>\n",
              "    <tr style=\"text-align: right;\">\n",
              "      <th></th>\n",
              "      <th>quartos</th>\n",
              "      <th>area</th>\n",
              "      <th>preco</th>\n",
              "    </tr>\n",
              "  </thead>\n",
              "  <tbody>\n",
              "    <tr>\n",
              "      <th>quartos</th>\n",
              "      <td>1.000000</td>\n",
              "      <td>0.208945</td>\n",
              "      <td>-0.248522</td>\n",
              "    </tr>\n",
              "    <tr>\n",
              "      <th>area</th>\n",
              "      <td>0.208945</td>\n",
              "      <td>1.000000</td>\n",
              "      <td>-0.049144</td>\n",
              "    </tr>\n",
              "    <tr>\n",
              "      <th>preco</th>\n",
              "      <td>-0.248522</td>\n",
              "      <td>-0.049144</td>\n",
              "      <td>1.000000</td>\n",
              "    </tr>\n",
              "  </tbody>\n",
              "</table>\n",
              "</div>"
            ],
            "text/plain": [
              "          quartos      area     preco\n",
              "quartos  1.000000  0.208945 -0.248522\n",
              "area     0.208945  1.000000 -0.049144\n",
              "preco   -0.248522 -0.049144  1.000000"
            ]
          },
          "metadata": {
            "tags": []
          },
          "execution_count": 7
        }
      ]
    },
    {
      "cell_type": "markdown",
      "metadata": {
        "id": "jNKbVMnyuoal",
        "colab_type": "text"
      },
      "source": [
        "Podemos agora fazer alguns gráficos para entendermos os dados"
      ]
    },
    {
      "cell_type": "code",
      "metadata": {
        "id": "RM1nCWhHutqZ",
        "colab_type": "code",
        "colab": {
          "base_uri": "https://localhost:8080/",
          "height": 567
        },
        "outputId": "aaf0d0a0-7940-40bb-e914-fd36b1cefdb9"
      },
      "source": [
        "# Distplot\n",
        "colunas = df[['quartos', 'area', 'preco']]\n",
        "sns.pairplot(data=colunas, diag_kind='kde')\n",
        "plt.show()"
      ],
      "execution_count": 8,
      "outputs": [
        {
          "output_type": "display_data",
          "data": {
            "image/png": "[encoded data removed]",
            "text/plain": [
              "<Figure size 540x540 with 12 Axes>"
            ]
          },
          "metadata": {
            "tags": [],
            "needs_background": "light"
          }
        }
      ]
    },
    {
      "cell_type": "code",
      "metadata": {
        "id": "n6ZxMRe9w2iu",
        "colab_type": "code",
        "colab": {
          "base_uri": "https://localhost:8080/",
          "height": 320
        },
        "outputId": "4eb08507-ee12-4552-adda-1dd2444da8d8"
      },
      "source": [
        "# Boxplot\n",
        "fig = plt.figure(figsize=(10,5))\n",
        "colunas = df[['quartos', 'area', 'preco']]\n",
        "sns.boxplot(data=colunas)\n",
        "plt.show()"
      ],
      "execution_count": 9,
      "outputs": [
        {
          "output_type": "display_data",
          "data": {
            "image/png": "[encoded data removed]",
            "text/plain": [
              "<Figure size 720x360 with 1 Axes>"
            ]
          },
          "metadata": {
            "tags": [],
            "needs_background": "light"
          }
        }
      ]
    },
    {
      "cell_type": "markdown",
      "metadata": {
        "id": "MXEsoOM_YVc6",
        "colab_type": "text"
      },
      "source": [
        "- Tratamento de valores missing"
      ]
    },
    {
      "cell_type": "markdown",
      "metadata": {
        "id": "uh4EeIKtbARh",
        "colab_type": "text"
      },
      "source": [
        "Trataremos o caso de valores missing na coluna quartos preenchendo o respectivo valor pela mediana."
      ]
    },
    {
      "cell_type": "code",
      "metadata": {
        "id": "dD5KuKEDYYnv",
        "colab_type": "code",
        "colab": {
          "base_uri": "https://localhost:8080/",
          "height": 51
        },
        "outputId": "277a9f68-98ca-42ae-839d-7a0db29055f3"
      },
      "source": [
        "# Na coluna quartos\n",
        "\n",
        "# Zona Norte\n",
        "df.query('zona == \"norte\"').isnull().sum()\n",
        "mediana_z = df.query('zona == \"norte\"')['quartos'].median()\n",
        "\n",
        "# Zona Leste\n",
        "df.query('zona == \"leste\"').isnull().sum()\n",
        "mediana_l = df.query('zona == \"leste\"')['quartos'].median()\n",
        "\n",
        "print(f'Mediana para zona Norte: {mediana_z}. \\nMediana para zona Leste: {mediana_l}.')"
      ],
      "execution_count": 35,
      "outputs": [
        {
          "output_type": "stream",
          "text": [
            "Mediana para zona Norte: 2.0. \n",
            "Mediana para zona Leste: 2.0.\n"
          ],
          "name": "stdout"
        }
      ]
    },
    {
      "cell_type": "code",
      "metadata": {
        "id": "ZZBRYwY0YrFU",
        "colab_type": "code",
        "colab": {}
      },
      "source": [
        "df = df.fillna(df.median())"
      ],
      "execution_count": 36,
      "outputs": []
    }
  ]
}