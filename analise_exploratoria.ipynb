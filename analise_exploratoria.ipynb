{
  "nbformat": 4,
  "nbformat_minor": 0,
  "metadata": {
    "colab": {
      "name": "analise-exploratoria.ipynb",
      "provenance": [],
      "authorship_tag": "ABX9TyNpqNflFPgBTB0ns7aVkbO4",
      "include_colab_link": true
    },
    "kernelspec": {
      "name": "python3",
      "display_name": "Python 3"
    }
  },
  "cells": [
    {
      "cell_type": "markdown",
      "metadata": {
        "id": "view-in-github",
        "colab_type": "text"
      },
      "source": [
        "<a href=\"https://colab.research.google.com/github/Mario-RJunior/calculadora-imoveis/blob/master/analise_exploratoria.ipynb\" target=\"_parent\"><img src=\"https://colab.research.google.com/assets/colab-badge.svg\" alt=\"Open In Colab\"/></a>"
      ]
    },
    {
      "cell_type": "markdown",
      "metadata": {
        "id": "IkeiPewsufrC",
        "colab_type": "text"
      },
      "source": [
        "# Análise Exploratória dos Dados"
      ]
    },
    {
      "cell_type": "code",
      "metadata": {
        "id": "pZ63-Omdpd2B",
        "colab_type": "code",
        "colab": {
          "base_uri": "https://localhost:8080/",
          "height": 71
        },
        "outputId": "bb3e2d9f-ff60-4281-8afb-c0e3c7949e23"
      },
      "source": [
        "# Importanto as bibliotecas\n",
        "import pandas as pd\n",
        "import matplotlib.pyplot as plt\n",
        "import seaborn as sns"
      ],
      "execution_count": 1,
      "outputs": [
        {
          "output_type": "stream",
          "text": [
            "/usr/local/lib/python3.6/dist-packages/statsmodels/tools/_testing.py:19: FutureWarning: pandas.util.testing is deprecated. Use the functions in the public API at pandas.testing instead.\n",
            "  import pandas.util.testing as tm\n"
          ],
          "name": "stderr"
        }
      ]
    },
    {
      "cell_type": "code",
      "metadata": {
        "id": "GgsjstuSp7cB",
        "colab_type": "code",
        "colab": {}
      },
      "source": [
        "# Recuperando o link da base de dados gerada no estudo de web scraping\n",
        "LINK = 'https://raw.githubusercontent.com/Mario-RJunior/web-scraping-ML/master/dados_imoveis.csv'"
      ],
      "execution_count": 2,
      "outputs": []
    },
    {
      "cell_type": "code",
      "metadata": {
        "id": "jcNN99fIqDjv",
        "colab_type": "code",
        "colab": {
          "base_uri": "https://localhost:8080/",
          "height": 204
        },
        "outputId": "76ea990b-19ec-43df-ada5-e81e4e7f47bf"
      },
      "source": [
        "# Gerando o dataframe\n",
        "df = pd.read_csv(LINK)\n",
        "df.drop(columns='Unnamed: 0', inplace=True)\n",
        "df.head()"
      ],
      "execution_count": 5,
      "outputs": [
        {
          "output_type": "execute_result",
          "data": {
            "text/html": [
              "<div>\n",
              "<style scoped>\n",
              "    .dataframe tbody tr th:only-of-type {\n",
              "        vertical-align: middle;\n",
              "    }\n",
              "\n",
              "    .dataframe tbody tr th {\n",
              "        vertical-align: top;\n",
              "    }\n",
              "\n",
              "    .dataframe thead th {\n",
              "        text-align: right;\n",
              "    }\n",
              "</style>\n",
              "<table border=\"1\" class=\"dataframe\">\n",
              "  <thead>\n",
              "    <tr style=\"text-align: right;\">\n",
              "      <th></th>\n",
              "      <th>zona</th>\n",
              "      <th>quartos</th>\n",
              "      <th>area</th>\n",
              "      <th>preco</th>\n",
              "    </tr>\n",
              "  </thead>\n",
              "  <tbody>\n",
              "    <tr>\n",
              "      <th>0</th>\n",
              "      <td>norte</td>\n",
              "      <td>1.0</td>\n",
              "      <td>40</td>\n",
              "      <td>1.120</td>\n",
              "    </tr>\n",
              "    <tr>\n",
              "      <th>1</th>\n",
              "      <td>norte</td>\n",
              "      <td>2.0</td>\n",
              "      <td>47</td>\n",
              "      <td>1.414</td>\n",
              "    </tr>\n",
              "    <tr>\n",
              "      <th>2</th>\n",
              "      <td>norte</td>\n",
              "      <td>2.0</td>\n",
              "      <td>47</td>\n",
              "      <td>1.310</td>\n",
              "    </tr>\n",
              "    <tr>\n",
              "      <th>3</th>\n",
              "      <td>norte</td>\n",
              "      <td>2.0</td>\n",
              "      <td>51</td>\n",
              "      <td>1.123</td>\n",
              "    </tr>\n",
              "    <tr>\n",
              "      <th>4</th>\n",
              "      <td>norte</td>\n",
              "      <td>3.0</td>\n",
              "      <td>62</td>\n",
              "      <td>1.480</td>\n",
              "    </tr>\n",
              "  </tbody>\n",
              "</table>\n",
              "</div>"
            ],
            "text/plain": [
              "    zona  quartos  area  preco\n",
              "0  norte      1.0    40  1.120\n",
              "1  norte      2.0    47  1.414\n",
              "2  norte      2.0    47  1.310\n",
              "3  norte      2.0    51  1.123\n",
              "4  norte      3.0    62  1.480"
            ]
          },
          "metadata": {
            "tags": []
          },
          "execution_count": 5
        }
      ]
    },
    {
      "cell_type": "code",
      "metadata": {
        "id": "lra6iyNzqRta",
        "colab_type": "code",
        "colab": {
          "base_uri": "https://localhost:8080/",
          "height": 297
        },
        "outputId": "2eed6e57-8357-406b-d6e1-de0c0a14b2cd"
      },
      "source": [
        "# Verificando dados estatísticos\n",
        "df.describe()"
      ],
      "execution_count": 7,
      "outputs": [
        {
          "output_type": "execute_result",
          "data": {
            "text/html": [
              "<div>\n",
              "<style scoped>\n",
              "    .dataframe tbody tr th:only-of-type {\n",
              "        vertical-align: middle;\n",
              "    }\n",
              "\n",
              "    .dataframe tbody tr th {\n",
              "        vertical-align: top;\n",
              "    }\n",
              "\n",
              "    .dataframe thead th {\n",
              "        text-align: right;\n",
              "    }\n",
              "</style>\n",
              "<table border=\"1\" class=\"dataframe\">\n",
              "  <thead>\n",
              "    <tr style=\"text-align: right;\">\n",
              "      <th></th>\n",
              "      <th>quartos</th>\n",
              "      <th>area</th>\n",
              "      <th>preco</th>\n",
              "    </tr>\n",
              "  </thead>\n",
              "  <tbody>\n",
              "    <tr>\n",
              "      <th>count</th>\n",
              "      <td>1150.000000</td>\n",
              "      <td>1152.000000</td>\n",
              "      <td>1152.000000</td>\n",
              "    </tr>\n",
              "    <tr>\n",
              "      <th>mean</th>\n",
              "      <td>1.971304</td>\n",
              "      <td>83.239583</td>\n",
              "      <td>56.283334</td>\n",
              "    </tr>\n",
              "    <tr>\n",
              "      <th>std</th>\n",
              "      <td>0.785006</td>\n",
              "      <td>69.006817</td>\n",
              "      <td>204.404702</td>\n",
              "    </tr>\n",
              "    <tr>\n",
              "      <th>min</th>\n",
              "      <td>1.000000</td>\n",
              "      <td>12.000000</td>\n",
              "      <td>1.000000</td>\n",
              "    </tr>\n",
              "    <tr>\n",
              "      <th>25%</th>\n",
              "      <td>1.000000</td>\n",
              "      <td>48.000000</td>\n",
              "      <td>1.500000</td>\n",
              "    </tr>\n",
              "    <tr>\n",
              "      <th>50%</th>\n",
              "      <td>2.000000</td>\n",
              "      <td>62.000000</td>\n",
              "      <td>2.100000</td>\n",
              "    </tr>\n",
              "    <tr>\n",
              "      <th>75%</th>\n",
              "      <td>2.000000</td>\n",
              "      <td>90.000000</td>\n",
              "      <td>3.500000</td>\n",
              "    </tr>\n",
              "    <tr>\n",
              "      <th>max</th>\n",
              "      <td>5.000000</td>\n",
              "      <td>620.000000</td>\n",
              "      <td>995.000000</td>\n",
              "    </tr>\n",
              "  </tbody>\n",
              "</table>\n",
              "</div>"
            ],
            "text/plain": [
              "           quartos         area        preco\n",
              "count  1150.000000  1152.000000  1152.000000\n",
              "mean      1.971304    83.239583    56.283334\n",
              "std       0.785006    69.006817   204.404702\n",
              "min       1.000000    12.000000     1.000000\n",
              "25%       1.000000    48.000000     1.500000\n",
              "50%       2.000000    62.000000     2.100000\n",
              "75%       2.000000    90.000000     3.500000\n",
              "max       5.000000   620.000000   995.000000"
            ]
          },
          "metadata": {
            "tags": []
          },
          "execution_count": 7
        }
      ]
    },
    {
      "cell_type": "code",
      "metadata": {
        "id": "gyj87siMqyOO",
        "colab_type": "code",
        "colab": {
          "base_uri": "https://localhost:8080/",
          "height": 102
        },
        "outputId": "2c895cdb-944f-43b2-8862-3f03e87f4378"
      },
      "source": [
        "# Verificando valores nulos\n",
        "df.isna().sum()"
      ],
      "execution_count": 8,
      "outputs": [
        {
          "output_type": "execute_result",
          "data": {
            "text/plain": [
              "zona       0\n",
              "quartos    2\n",
              "area       0\n",
              "preco      0\n",
              "dtype: int64"
            ]
          },
          "metadata": {
            "tags": []
          },
          "execution_count": 8
        }
      ]
    },
    {
      "cell_type": "code",
      "metadata": {
        "id": "hkqg4Zb3vF6K",
        "colab_type": "code",
        "colab": {
          "base_uri": "https://localhost:8080/",
          "height": 102
        },
        "outputId": "e01c275a-6ed7-48ef-9122-6279289af700"
      },
      "source": [
        "# Verificando os tipos das variáveis\n",
        "df.dtypes"
      ],
      "execution_count": 12,
      "outputs": [
        {
          "output_type": "execute_result",
          "data": {
            "text/plain": [
              "zona        object\n",
              "quartos    float64\n",
              "area         int64\n",
              "preco      float64\n",
              "dtype: object"
            ]
          },
          "metadata": {
            "tags": []
          },
          "execution_count": 12
        }
      ]
    },
    {
      "cell_type": "code",
      "metadata": {
        "id": "i-e3S7_awXME",
        "colab_type": "code",
        "colab": {
          "base_uri": "https://localhost:8080/",
          "height": 142
        },
        "outputId": "dcfb71a1-0f98-44d9-9604-79a9086880a1"
      },
      "source": [
        "# Verificando a correlação\n",
        "df.corr()"
      ],
      "execution_count": 22,
      "outputs": [
        {
          "output_type": "execute_result",
          "data": {
            "text/html": [
              "<div>\n",
              "<style scoped>\n",
              "    .dataframe tbody tr th:only-of-type {\n",
              "        vertical-align: middle;\n",
              "    }\n",
              "\n",
              "    .dataframe tbody tr th {\n",
              "        vertical-align: top;\n",
              "    }\n",
              "\n",
              "    .dataframe thead th {\n",
              "        text-align: right;\n",
              "    }\n",
              "</style>\n",
              "<table border=\"1\" class=\"dataframe\">\n",
              "  <thead>\n",
              "    <tr style=\"text-align: right;\">\n",
              "      <th></th>\n",
              "      <th>quartos</th>\n",
              "      <th>area</th>\n",
              "      <th>preco</th>\n",
              "    </tr>\n",
              "  </thead>\n",
              "  <tbody>\n",
              "    <tr>\n",
              "      <th>quartos</th>\n",
              "      <td>1.000000</td>\n",
              "      <td>0.666223</td>\n",
              "      <td>-0.238665</td>\n",
              "    </tr>\n",
              "    <tr>\n",
              "      <th>area</th>\n",
              "      <td>0.666223</td>\n",
              "      <td>1.000000</td>\n",
              "      <td>-0.148184</td>\n",
              "    </tr>\n",
              "    <tr>\n",
              "      <th>preco</th>\n",
              "      <td>-0.238665</td>\n",
              "      <td>-0.148184</td>\n",
              "      <td>1.000000</td>\n",
              "    </tr>\n",
              "  </tbody>\n",
              "</table>\n",
              "</div>"
            ],
            "text/plain": [
              "          quartos      area     preco\n",
              "quartos  1.000000  0.666223 -0.238665\n",
              "area     0.666223  1.000000 -0.148184\n",
              "preco   -0.238665 -0.148184  1.000000"
            ]
          },
          "metadata": {
            "tags": []
          },
          "execution_count": 22
        }
      ]
    },
    {
      "cell_type": "markdown",
      "metadata": {
        "id": "jNKbVMnyuoal",
        "colab_type": "text"
      },
      "source": [
        "Podemos agora fazer alguns gráficos para entendermos os dados"
      ]
    },
    {
      "cell_type": "code",
      "metadata": {
        "id": "RM1nCWhHutqZ",
        "colab_type": "code",
        "colab": {
          "base_uri": "https://localhost:8080/",
          "height": 567
        },
        "outputId": "97b0b1b2-66b3-4ef6-9590-c76e76292c81"
      },
      "source": [
        "# Distplot\n",
        "colunas = df[['quartos', 'area', 'preco']]\n",
        "sns.pairplot(data=colunas, diag_kind='kde')\n",
        "plt.show()"
      ],
      "execution_count": 21,
      "outputs": [
        {
          "output_type": "display_data",
          "data": {
            "image/png": "[encoded data removed]",
            "text/plain": [
              "<Figure size 540x540 with 12 Axes>"
            ]
          },
          "metadata": {
            "tags": [],
            "needs_background": "light"
          }
        }
      ]
    },
    {
      "cell_type": "code",
      "metadata": {
        "id": "n6ZxMRe9w2iu",
        "colab_type": "code",
        "colab": {
          "base_uri": "https://localhost:8080/",
          "height": 320
        },
        "outputId": "09b77b17-fe0a-48c1-c4e2-efc944f6a246"
      },
      "source": [
        "# Boxplot\n",
        "fig = plt.figure(figsize=(10,5))\n",
        "colunas = df[['quartos', 'area', 'preco']]\n",
        "sns.boxplot(data=colunas)\n",
        "plt.show()"
      ],
      "execution_count": 25,
      "outputs": [
        {
          "output_type": "display_data",
          "data": {
            "image/png": "[encoded data removed]",
            "text/plain": [
              "<Figure size 720x360 with 1 Axes>"
            ]
          },
          "metadata": {
            "tags": [],
            "needs_background": "light"
          }
        }
      ]
    },
    {
      "cell_type": "code",
      "metadata": {
        "id": "-lwYjI45xtjG",
        "colab_type": "code",
        "colab": {}
      },
      "source": [
        ""
      ],
      "execution_count": null,
      "outputs": []
    }
  ]
}