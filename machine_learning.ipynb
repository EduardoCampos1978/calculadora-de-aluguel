{
  "nbformat": 4,
  "nbformat_minor": 0,
  "metadata": {
    "colab": {
      "name": "machine-learning.ipynb",
      "provenance": [],
      "include_colab_link": true
    },
    "kernelspec": {
      "name": "python3",
      "display_name": "Python 3"
    }
  },
  "cells": [
    {
      "cell_type": "markdown",
      "metadata": {
        "id": "view-in-github",
        "colab_type": "text"
      },
      "source": [
        "<a href=\"https://colab.research.google.com/github/Mario-RJunior/calculadora-imoveis/blob/master/machine_learning.ipynb\" target=\"_parent\"><img src=\"https://colab.research.google.com/assets/colab-badge.svg\" alt=\"Open In Colab\"/></a>"
      ]
    },
    {
      "cell_type": "markdown",
      "metadata": {
        "id": "LpOq4u--M7R2"
      },
      "source": [
        "# Machine Learning"
      ]
    },
    {
      "cell_type": "markdown",
      "metadata": {
        "id": "h8xvoezyNHcE"
      },
      "source": [
        "Agora é a etapa em que iremos gerar um modelo usando técnicas de Machine Learning para gerar um modelo que irá nos ajudar a prever o valor de aluguéis de imóveis da cidade de São Paulo. Para isso usaremos como base os arquivos csv gerados durante a [análise exploratória](https://github.com/Mario-RJunior/calculadora-imoveis/blob/master/analise_exploratoria.ipynb)."
      ]
    },
    {
      "cell_type": "markdown",
      "metadata": {
        "id": "_wUzdqBant0D"
      },
      "source": [
        "## 1) Importar os dados"
      ]
    },
    {
      "cell_type": "code",
      "metadata": {
        "id": "I0mXOu7GDqI7"
      },
      "source": [
        "import pandas as pd\n",
        "from sklearn.linear_model import LinearRegression\n",
        "from sklearn.neighbors import KNeighborsRegressor\n",
        "from sklearn.ensemble import RandomForestRegressor, AdaBoostRegressor\n",
        "from sklearn.metrics import r2_score"
      ],
      "execution_count": 1,
      "outputs": []
    },
    {
      "cell_type": "code",
      "metadata": {
        "id": "TgYFC3Kwn49T"
      },
      "source": [
        "treino = pd.read_csv('https://raw.githubusercontent.com/Mario-RJunior/calculadora-imoveis/master/treino_preprocessado.csv')\n",
        "teste = pd.read_csv('https://raw.githubusercontent.com/Mario-RJunior/calculadora-imoveis/master/teste_preprocessado.csv')"
      ],
      "execution_count": 2,
      "outputs": []
    },
    {
      "cell_type": "code",
      "metadata": {
        "id": "WQEdE4emoKTS"
      },
      "source": [
        "# Divisão para variáveis X e y\n",
        "X_train = treino.drop(labels='preco', axis=1)\n",
        "y_train = treino['preco']\n",
        "X_test = teste.drop('preco', axis=1)\n",
        "y_test = teste['preco']"
      ],
      "execution_count": 3,
      "outputs": []
    },
    {
      "cell_type": "markdown",
      "metadata": {
        "id": "3X-gkUmytwzE"
      },
      "source": [
        "## 2) Modelo Baseline"
      ]
    },
    {
      "cell_type": "markdown",
      "metadata": {
        "id": "NRtVrP_zt8db"
      },
      "source": [
        "Inicialmente criaremos um modelo denominado de ***Baseline*** que servirá como parâmetro para comparar seu resultado com os dos outros modelos que iremos gerar. É importante ressaltar que para que um modelo seja considerado bom ele deve ser superior ao baseline.\n",
        "\n",
        "Como modelo baseline usaremos um algorítmo de regressão linear."
      ]
    },
    {
      "cell_type": "code",
      "metadata": {
        "id": "WKKZKHtst71t",
        "outputId": "baee632b-b672-4670-8e01-8335c52ba32e",
        "colab": {
          "base_uri": "https://localhost:8080/",
          "height": 34
        }
      },
      "source": [
        "# Criando o modelo de regressão linear\n",
        "rl = LinearRegression()\n",
        "rl.fit(X_train, y_train)\n",
        "rl.score(X_test, y_test)"
      ],
      "execution_count": 4,
      "outputs": [
        {
          "output_type": "execute_result",
          "data": {
            "text/plain": [
              "0.5617659641427768"
            ]
          },
          "metadata": {
            "tags": []
          },
          "execution_count": 4
        }
      ]
    },
    {
      "cell_type": "markdown",
      "metadata": {
        "id": "Cj4GGgvyvRX-"
      },
      "source": [
        "Note que este modelo tem um score de aproximadamente 0.45, que é bem ruim. Agora, precisamos testar outros modelos para encontrar o melhor e mais adequado possível."
      ]
    },
    {
      "cell_type": "markdown",
      "metadata": {
        "id": "G0JiI7ecbunJ"
      },
      "source": [
        "## 3) Testando outros modelos"
      ]
    },
    {
      "cell_type": "markdown",
      "metadata": {
        "id": "WP4zjyDjb58_"
      },
      "source": [
        "### 3.1) K-Nearest Neighbors (KNN)"
      ]
    },
    {
      "cell_type": "code",
      "metadata": {
        "id": "Pb3WsYYCb0vP",
        "outputId": "0428d564-6c9e-4d19-bf24-fa4e628b4d9d",
        "colab": {
          "base_uri": "https://localhost:8080/",
          "height": 68
        }
      },
      "source": [
        "neigh = KNeighborsRegressor()\n",
        "neigh.fit(X_train, y_train)"
      ],
      "execution_count": 5,
      "outputs": [
        {
          "output_type": "execute_result",
          "data": {
            "text/plain": [
              "KNeighborsRegressor(algorithm='auto', leaf_size=30, metric='minkowski',\n",
              "                    metric_params=None, n_jobs=None, n_neighbors=5, p=2,\n",
              "                    weights='uniform')"
            ]
          },
          "metadata": {
            "tags": []
          },
          "execution_count": 5
        }
      ]
    },
    {
      "cell_type": "code",
      "metadata": {
        "id": "bYr2RCubcdvX",
        "outputId": "b9cb320c-495f-48c6-ed26-713865d9d785",
        "colab": {
          "base_uri": "https://localhost:8080/",
          "height": 34
        }
      },
      "source": [
        "neigh.score(X_test, y_test)"
      ],
      "execution_count": 6,
      "outputs": [
        {
          "output_type": "execute_result",
          "data": {
            "text/plain": [
              "0.6399890193124183"
            ]
          },
          "metadata": {
            "tags": []
          },
          "execution_count": 6
        }
      ]
    },
    {
      "cell_type": "markdown",
      "metadata": {
        "id": "HKWkllOWdWSQ"
      },
      "source": [
        "### 3.2) Random Forest"
      ]
    },
    {
      "cell_type": "code",
      "metadata": {
        "id": "1AKWTw5ydA-i",
        "outputId": "f828acdf-c937-4b85-dd36-b3956ffb7a6f",
        "colab": {
          "base_uri": "https://localhost:8080/",
          "height": 136
        }
      },
      "source": [
        "rf = RandomForestRegressor()\n",
        "rf.fit(X_train, y_train)"
      ],
      "execution_count": 7,
      "outputs": [
        {
          "output_type": "execute_result",
          "data": {
            "text/plain": [
              "RandomForestRegressor(bootstrap=True, ccp_alpha=0.0, criterion='mse',\n",
              "                      max_depth=None, max_features='auto', max_leaf_nodes=None,\n",
              "                      max_samples=None, min_impurity_decrease=0.0,\n",
              "                      min_impurity_split=None, min_samples_leaf=1,\n",
              "                      min_samples_split=2, min_weight_fraction_leaf=0.0,\n",
              "                      n_estimators=100, n_jobs=None, oob_score=False,\n",
              "                      random_state=None, verbose=0, warm_start=False)"
            ]
          },
          "metadata": {
            "tags": []
          },
          "execution_count": 7
        }
      ]
    },
    {
      "cell_type": "code",
      "metadata": {
        "id": "j65FN2FcddLW",
        "outputId": "8ccbbd0c-2b96-4b89-e2a9-fc57be18faa6",
        "colab": {
          "base_uri": "https://localhost:8080/",
          "height": 34
        }
      },
      "source": [
        "rf.score(X_test, y_test)"
      ],
      "execution_count": 8,
      "outputs": [
        {
          "output_type": "execute_result",
          "data": {
            "text/plain": [
              "0.6419024223837924"
            ]
          },
          "metadata": {
            "tags": []
          },
          "execution_count": 8
        }
      ]
    },
    {
      "cell_type": "markdown",
      "metadata": {
        "id": "D0P1e61ldzip"
      },
      "source": [
        "### 3.3) Adaboost"
      ]
    },
    {
      "cell_type": "code",
      "metadata": {
        "id": "evGPW7RQdjgP",
        "outputId": "b608fa9f-bb91-49fa-a0ad-af6a4728d488",
        "colab": {
          "base_uri": "https://localhost:8080/",
          "height": 51
        }
      },
      "source": [
        "regr = AdaBoostRegressor()\n",
        "regr.fit(X_train, y_train)"
      ],
      "execution_count": 9,
      "outputs": [
        {
          "output_type": "execute_result",
          "data": {
            "text/plain": [
              "AdaBoostRegressor(base_estimator=None, learning_rate=1.0, loss='linear',\n",
              "                  n_estimators=50, random_state=None)"
            ]
          },
          "metadata": {
            "tags": []
          },
          "execution_count": 9
        }
      ]
    },
    {
      "cell_type": "code",
      "metadata": {
        "id": "W8lc3mP-dx7E",
        "outputId": "e1c1b442-6df0-452f-e16b-263e8a66a194",
        "colab": {
          "base_uri": "https://localhost:8080/",
          "height": 34
        }
      },
      "source": [
        "regr.score(X_test, y_test)"
      ],
      "execution_count": 10,
      "outputs": [
        {
          "output_type": "execute_result",
          "data": {
            "text/plain": [
              "0.6011958998622478"
            ]
          },
          "metadata": {
            "tags": []
          },
          "execution_count": 10
        }
      ]
    },
    {
      "cell_type": "markdown",
      "metadata": {
        "id": "6Qu1DPkycENV"
      },
      "source": [
        "Podemos agora, afim de otimizar nosso tempo criar um modelo para diversos algorítmos simultaneamente."
      ]
    },
    {
      "cell_type": "code",
      "metadata": {
        "id": "jsNJEkNmcTd5"
      },
      "source": [
        "# Importando os estimadores\n",
        "from sklearn.linear_model import RidgeCV, Lasso, ElasticNet, LassoLars, HuberRegressor\n",
        "from sklearn.svm import SVR\n",
        "from sklearn.ensemble import GradientBoostingRegressor\n",
        "from sklearn.neural_network import MLPRegressor\n",
        "from sklearn.ensemble import RandomForestRegressor\n",
        "from lightgbm import LGBMRegressor\n",
        "from xgboost import XGBRegressor"
      ],
      "execution_count": 11,
      "outputs": []
    },
    {
      "cell_type": "code",
      "metadata": {
        "id": "noOe3Q-scuhw"
      },
      "source": [
        "# Criando uma lista com todos os estimadores\n",
        "reg_list = [RidgeCV(),\n",
        "            LGBMRegressor(), \n",
        "            XGBRegressor(objective='reg:squarederror'),\n",
        "            SVR(),\n",
        "            GradientBoostingRegressor(),\n",
        "            MLPRegressor()\n",
        "            ]"
      ],
      "execution_count": 12,
      "outputs": []
    },
    {
      "cell_type": "code",
      "metadata": {
        "id": "4U8fLkfjc9c3",
        "outputId": "87cc0eec-2c2a-47e5-c95f-26873d3133cc",
        "colab": {
          "base_uri": "https://localhost:8080/",
          "height": 649
        }
      },
      "source": [
        "# Criando o modelo\n",
        "from sklearn.model_selection import cross_val_score\n",
        "import numpy as np\n",
        "\n",
        "for reg in reg_list:\n",
        "    print(f'Treinando Modelo {reg.__class__.__name__}')\n",
        "    reg.fit(X_train, y_train)\n",
        "    \n",
        "    train_score = reg.score(X_train, y_train)\n",
        "    cv_scores = cross_val_score(reg, X_train, y_train)\n",
        "    test_score = reg.score(X_test, y_test)\n",
        "    \n",
        "    print(f\"R2 Score Train: {train_score}\")\n",
        "    print(f\"R2 Score Valid: {np.mean(cv_scores):.2f} +- {np.std(cv_scores):.2f}\")\n",
        "    print(f\"R2 Score Test: {test_score}\")\n",
        "    print('='*80)"
      ],
      "execution_count": 13,
      "outputs": [
        {
          "output_type": "stream",
          "text": [
            "Treinando Modelo RidgeCV\n",
            "R2 Score Train: 0.694995494792588\n",
            "R2 Score Valid: 0.69 +- 0.04\n",
            "R2 Score Test: 0.5628158188285721\n",
            "================================================================================\n",
            "Treinando Modelo LGBMRegressor\n",
            "R2 Score Train: 0.8335649897226411\n",
            "R2 Score Valid: 0.73 +- 0.01\n",
            "R2 Score Test: 0.6524018217807195\n",
            "================================================================================\n",
            "Treinando Modelo XGBRegressor\n",
            "R2 Score Train: 0.8173085197618972\n",
            "R2 Score Valid: 0.74 +- 0.01\n",
            "R2 Score Test: 0.6748886425763778\n",
            "================================================================================\n",
            "Treinando Modelo SVR\n",
            "R2 Score Train: 0.7331335431720392\n",
            "R2 Score Valid: 0.72 +- 0.03\n",
            "R2 Score Test: 0.6424482920301618\n",
            "================================================================================\n",
            "Treinando Modelo GradientBoostingRegressor\n",
            "R2 Score Train: 0.8279163984754841\n",
            "R2 Score Valid: 0.74 +- 0.01\n",
            "R2 Score Test: 0.663573061815669\n",
            "================================================================================\n",
            "Treinando Modelo MLPRegressor\n"
          ],
          "name": "stdout"
        },
        {
          "output_type": "stream",
          "text": [
            "/usr/local/lib/python3.6/dist-packages/sklearn/neural_network/_multilayer_perceptron.py:571: ConvergenceWarning: Stochastic Optimizer: Maximum iterations (200) reached and the optimization hasn't converged yet.\n",
            "  % self.max_iter, ConvergenceWarning)\n",
            "/usr/local/lib/python3.6/dist-packages/sklearn/neural_network/_multilayer_perceptron.py:571: ConvergenceWarning: Stochastic Optimizer: Maximum iterations (200) reached and the optimization hasn't converged yet.\n",
            "  % self.max_iter, ConvergenceWarning)\n",
            "/usr/local/lib/python3.6/dist-packages/sklearn/neural_network/_multilayer_perceptron.py:571: ConvergenceWarning: Stochastic Optimizer: Maximum iterations (200) reached and the optimization hasn't converged yet.\n",
            "  % self.max_iter, ConvergenceWarning)\n"
          ],
          "name": "stderr"
        },
        {
          "output_type": "stream",
          "text": [
            "R2 Score Train: 0.7150139858715128\n",
            "R2 Score Valid: 0.70 +- 0.05\n",
            "R2 Score Test: 0.5895900503274301\n",
            "================================================================================\n"
          ],
          "name": "stdout"
        }
      ]
    },
    {
      "cell_type": "markdown",
      "metadata": {
        "id": "isOYJYLEe5_-"
      },
      "source": [
        "Para fazermos um teste com outros estimadores, podemos agora extrapolar e fazer uma tentativa com todos os modelos regressores do Sklearn."
      ]
    },
    {
      "cell_type": "code",
      "metadata": {
        "id": "RX93Dirie4zp"
      },
      "source": [
        "# Testando com todos os regressores do sklearn\n",
        "from sklearn.utils import all_estimators\n",
        "\n",
        "estimators = all_estimators(type_filter='regressor')\n",
        "\n",
        "relatorio = {'nome':[],\n",
        "             'train_score':[],\n",
        "             'cv_scores_mean':[],\n",
        "             'test_score':[],\n",
        "             'estimador':[]\n",
        "             }\n",
        "\n",
        "ignore_list = ['IsotonicRegression',\n",
        " 'MultiOutputRegressor',\n",
        " 'ElasticNet',\n",
        " 'MultiTaskElasticNet',\n",
        " 'MultiTaskElasticNetCV',\n",
        " 'MultiTaskLasso',\n",
        " 'MultiTaskLassoCV',\n",
        " 'RadiusNeighborsRegressor',\n",
        " 'RegressorChain',\n",
        " 'StackingRegressor',\n",
        " 'VotingRegressor']"
      ],
      "execution_count": 14,
      "outputs": []
    },
    {
      "cell_type": "code",
      "metadata": {
        "id": "b0k__M08fIzv"
      },
      "source": [
        "estimators.extend(\n",
        "    [('LGBMRegressor', LGBMRegressor),\n",
        "     ('XGBRegressor', XGBRegressor)]\n",
        ")"
      ],
      "execution_count": 15,
      "outputs": []
    },
    {
      "cell_type": "code",
      "metadata": {
        "id": "M-xj32ahfM5n",
        "outputId": "51103812-ad2f-4ccd-9e1f-6d05a27d2e2e",
        "colab": {
          "base_uri": "https://localhost:8080/",
          "height": 1000
        }
      },
      "source": [
        "# Criando os modelos\n",
        "for name, RegressorClass in estimators:\n",
        "  if name not in ignore_list:\n",
        "    print(f'Treinando Modelo {name}')\n",
        "    reg = RegressorClass()\n",
        "    reg.fit(X_train, y_train)\n",
        "\n",
        "    train_score = reg.score(X_train, y_train)\n",
        "    cv_scores = cross_val_score(reg, X_train, y_train)\n",
        "    test_score = reg.score(X_test, y_test)\n",
        "\n",
        "    print(f\"R2 Score Train: {train_score}\")\n",
        "    print(f\"R2 Score Valid: {np.mean(cv_scores):.2f} +- {np.std(cv_scores):.2f}\")\n",
        "    print(f\"R2 Score Test: {test_score}\")\n",
        "    print('='*80)\n",
        "\n",
        "    relatorio['nome'].append(name)\n",
        "    relatorio['train_score'].append(train_score)\n",
        "    relatorio['cv_scores_mean'].append(np.mean(cv_scores))\n",
        "    relatorio['test_score'].append(test_score)\n",
        "    relatorio['estimador'].append(reg)"
      ],
      "execution_count": 16,
      "outputs": [
        {
          "output_type": "stream",
          "text": [
            "Treinando Modelo ARDRegression\n",
            "R2 Score Train: 0.6949800511386279\n",
            "R2 Score Valid: 0.69 +- 0.04\n",
            "R2 Score Test: 0.5626085196799845\n",
            "================================================================================\n",
            "Treinando Modelo AdaBoostRegressor\n",
            "R2 Score Train: 0.7245932796723886\n",
            "R2 Score Valid: 0.68 +- 0.02\n",
            "R2 Score Test: 0.588633580782095\n",
            "================================================================================\n",
            "Treinando Modelo BaggingRegressor\n",
            "R2 Score Train: 0.8973220318212345\n",
            "R2 Score Valid: 0.70 +- 0.01\n",
            "R2 Score Test: 0.6308128404240612\n",
            "================================================================================\n",
            "Treinando Modelo BayesianRidge\n",
            "R2 Score Train: 0.6949911822249593\n",
            "R2 Score Valid: 0.69 +- 0.04\n",
            "R2 Score Test: 0.5627539730309861\n",
            "================================================================================\n",
            "Treinando Modelo CCA\n"
          ],
          "name": "stdout"
        },
        {
          "output_type": "stream",
          "text": [
            "/usr/local/lib/python3.6/dist-packages/sklearn/cross_decomposition/_pls.py:321: UserWarning: Y residual constant at iteration 1\n",
            "  warnings.warn('Y residual constant at iteration %s' % k)\n",
            "/usr/local/lib/python3.6/dist-packages/sklearn/cross_decomposition/_pls.py:321: UserWarning: Y residual constant at iteration 1\n",
            "  warnings.warn('Y residual constant at iteration %s' % k)\n",
            "/usr/local/lib/python3.6/dist-packages/sklearn/cross_decomposition/_pls.py:321: UserWarning: Y residual constant at iteration 1\n",
            "  warnings.warn('Y residual constant at iteration %s' % k)\n",
            "/usr/local/lib/python3.6/dist-packages/sklearn/cross_decomposition/_pls.py:321: UserWarning: Y residual constant at iteration 1\n",
            "  warnings.warn('Y residual constant at iteration %s' % k)\n",
            "/usr/local/lib/python3.6/dist-packages/sklearn/cross_decomposition/_pls.py:321: UserWarning: Y residual constant at iteration 1\n",
            "  warnings.warn('Y residual constant at iteration %s' % k)\n",
            "/usr/local/lib/python3.6/dist-packages/sklearn/cross_decomposition/_pls.py:321: UserWarning: Y residual constant at iteration 1\n",
            "  warnings.warn('Y residual constant at iteration %s' % k)\n"
          ],
          "name": "stderr"
        },
        {
          "output_type": "stream",
          "text": [
            "R2 Score Train: 0.5268173739911579\n",
            "R2 Score Valid: 0.52 +- 0.05\n",
            "R2 Score Test: 0.4247894039998379\n",
            "================================================================================\n",
            "Treinando Modelo DecisionTreeRegressor\n",
            "R2 Score Train: 0.9216100052828616\n",
            "R2 Score Valid: 0.61 +- 0.04\n",
            "R2 Score Test: 0.5747234041144613\n",
            "================================================================================\n",
            "Treinando Modelo DummyRegressor\n",
            "R2 Score Train: 0.0\n",
            "R2 Score Valid: -0.01 +- 0.01\n",
            "R2 Score Test: -0.0013810536838241294\n",
            "================================================================================\n",
            "Treinando Modelo ElasticNetCV\n",
            "R2 Score Train: 0.6949788060660995\n",
            "R2 Score Valid: 0.69 +- 0.04\n",
            "R2 Score Test: 0.5625562730896083\n",
            "================================================================================\n",
            "Treinando Modelo ExtraTreeRegressor\n",
            "R2 Score Train: 0.9216100052828616\n",
            "R2 Score Valid: 0.64 +- 0.01\n",
            "R2 Score Test: 0.6109483630006953\n",
            "================================================================================\n",
            "Treinando Modelo ExtraTreesRegressor\n",
            "R2 Score Train: 0.9216100052828616\n",
            "R2 Score Valid: 0.67 +- 0.02\n",
            "R2 Score Test: 0.6308223863304174\n",
            "================================================================================\n",
            "Treinando Modelo GaussianProcessRegressor\n",
            "R2 Score Train: 0.8261818293286746\n",
            "R2 Score Valid: -96046.40 +- 128611.19\n",
            "R2 Score Test: -34356.96601428817\n",
            "================================================================================\n",
            "Treinando Modelo GradientBoostingRegressor\n",
            "R2 Score Train: 0.8279163984754841\n",
            "R2 Score Valid: 0.74 +- 0.01\n",
            "R2 Score Test: 0.6645732010939355\n",
            "================================================================================\n",
            "Treinando Modelo HistGradientBoostingRegressor\n",
            "R2 Score Train: 0.8378845337772923\n",
            "R2 Score Valid: 0.73 +- 0.02\n",
            "R2 Score Test: 0.6628372044846564\n",
            "================================================================================\n",
            "Treinando Modelo HuberRegressor\n",
            "R2 Score Train: 0.6891757245505148\n",
            "R2 Score Valid: 0.69 +- 0.04\n",
            "R2 Score Test: 0.5474009869293686\n",
            "================================================================================\n",
            "Treinando Modelo KNeighborsRegressor\n",
            "R2 Score Train: 0.8066494487104069\n",
            "R2 Score Valid: 0.71 +- 0.02\n",
            "R2 Score Test: 0.6399890193124183\n",
            "================================================================================\n",
            "Treinando Modelo KernelRidge\n",
            "R2 Score Train: 0.6893999339223541\n",
            "R2 Score Valid: 0.68 +- 0.04\n",
            "R2 Score Test: 0.5527415622056288\n",
            "================================================================================\n",
            "Treinando Modelo Lars\n",
            "R2 Score Train: 0.694999613515747\n",
            "R2 Score Valid: 0.69 +- 0.04\n",
            "R2 Score Test: 0.5629558167496815\n",
            "================================================================================\n",
            "Treinando Modelo LarsCV\n",
            "R2 Score Train: 0.694999613515747\n",
            "R2 Score Valid: 0.69 +- 0.04\n",
            "R2 Score Test: 0.5629558167496815\n",
            "================================================================================\n",
            "Treinando Modelo Lasso\n",
            "R2 Score Train: 0.0\n",
            "R2 Score Valid: -0.01 +- 0.01\n",
            "R2 Score Test: -0.0013810536838241294\n",
            "================================================================================\n",
            "Treinando Modelo LassoCV\n",
            "R2 Score Train: 0.6949884267467759\n",
            "R2 Score Valid: 0.69 +- 0.04\n",
            "R2 Score Test: 0.5626560466144279\n",
            "================================================================================\n",
            "Treinando Modelo LassoLars\n",
            "R2 Score Train: 0.0\n",
            "R2 Score Valid: -0.01 +- 0.01\n",
            "R2 Score Test: -0.0013810536838241294\n",
            "================================================================================\n",
            "Treinando Modelo LassoLarsCV\n",
            "R2 Score Train: 0.694999613515747\n",
            "R2 Score Valid: 0.69 +- 0.04\n",
            "R2 Score Test: 0.5629558167496815\n",
            "================================================================================\n",
            "Treinando Modelo LassoLarsIC\n",
            "R2 Score Train: 0.694999613515747\n",
            "R2 Score Valid: 0.69 +- 0.04\n",
            "R2 Score Test: 0.5629558167496815\n",
            "================================================================================\n",
            "Treinando Modelo LinearRegression\n",
            "R2 Score Train: 0.6943280898303709\n",
            "R2 Score Valid: 0.69 +- 0.04\n",
            "R2 Score Test: 0.5617659641427768\n",
            "================================================================================\n",
            "Treinando Modelo LinearSVR\n"
          ],
          "name": "stdout"
        },
        {
          "output_type": "stream",
          "text": [
            "/usr/local/lib/python3.6/dist-packages/sklearn/svm/_base.py:947: ConvergenceWarning: Liblinear failed to converge, increase the number of iterations.\n",
            "  \"the number of iterations.\", ConvergenceWarning)\n",
            "/usr/local/lib/python3.6/dist-packages/sklearn/svm/_base.py:947: ConvergenceWarning: Liblinear failed to converge, increase the number of iterations.\n",
            "  \"the number of iterations.\", ConvergenceWarning)\n",
            "/usr/local/lib/python3.6/dist-packages/sklearn/svm/_base.py:947: ConvergenceWarning: Liblinear failed to converge, increase the number of iterations.\n",
            "  \"the number of iterations.\", ConvergenceWarning)\n",
            "/usr/local/lib/python3.6/dist-packages/sklearn/svm/_base.py:947: ConvergenceWarning: Liblinear failed to converge, increase the number of iterations.\n",
            "  \"the number of iterations.\", ConvergenceWarning)\n",
            "/usr/local/lib/python3.6/dist-packages/sklearn/svm/_base.py:947: ConvergenceWarning: Liblinear failed to converge, increase the number of iterations.\n",
            "  \"the number of iterations.\", ConvergenceWarning)\n",
            "/usr/local/lib/python3.6/dist-packages/sklearn/svm/_base.py:947: ConvergenceWarning: Liblinear failed to converge, increase the number of iterations.\n",
            "  \"the number of iterations.\", ConvergenceWarning)\n"
          ],
          "name": "stderr"
        },
        {
          "output_type": "stream",
          "text": [
            "R2 Score Train: 0.6835501853876946\n",
            "R2 Score Valid: 0.68 +- 0.04\n",
            "R2 Score Test: 0.5388412982438333\n",
            "================================================================================\n",
            "Treinando Modelo MLPRegressor\n"
          ],
          "name": "stdout"
        },
        {
          "output_type": "stream",
          "text": [
            "/usr/local/lib/python3.6/dist-packages/sklearn/neural_network/_multilayer_perceptron.py:571: ConvergenceWarning: Stochastic Optimizer: Maximum iterations (200) reached and the optimization hasn't converged yet.\n",
            "  % self.max_iter, ConvergenceWarning)\n",
            "/usr/local/lib/python3.6/dist-packages/sklearn/neural_network/_multilayer_perceptron.py:571: ConvergenceWarning: Stochastic Optimizer: Maximum iterations (200) reached and the optimization hasn't converged yet.\n",
            "  % self.max_iter, ConvergenceWarning)\n",
            "/usr/local/lib/python3.6/dist-packages/sklearn/neural_network/_multilayer_perceptron.py:571: ConvergenceWarning: Stochastic Optimizer: Maximum iterations (200) reached and the optimization hasn't converged yet.\n",
            "  % self.max_iter, ConvergenceWarning)\n",
            "/usr/local/lib/python3.6/dist-packages/sklearn/neural_network/_multilayer_perceptron.py:571: ConvergenceWarning: Stochastic Optimizer: Maximum iterations (200) reached and the optimization hasn't converged yet.\n",
            "  % self.max_iter, ConvergenceWarning)\n",
            "/usr/local/lib/python3.6/dist-packages/sklearn/neural_network/_multilayer_perceptron.py:571: ConvergenceWarning: Stochastic Optimizer: Maximum iterations (200) reached and the optimization hasn't converged yet.\n",
            "  % self.max_iter, ConvergenceWarning)\n",
            "/usr/local/lib/python3.6/dist-packages/sklearn/neural_network/_multilayer_perceptron.py:571: ConvergenceWarning: Stochastic Optimizer: Maximum iterations (200) reached and the optimization hasn't converged yet.\n",
            "  % self.max_iter, ConvergenceWarning)\n"
          ],
          "name": "stderr"
        },
        {
          "output_type": "stream",
          "text": [
            "R2 Score Train: 0.7225812589291056\n",
            "R2 Score Valid: 0.70 +- 0.04\n",
            "R2 Score Test: 0.6020076826774533\n",
            "================================================================================\n",
            "Treinando Modelo NuSVR\n",
            "R2 Score Train: 0.7353168434788004\n",
            "R2 Score Valid: 0.73 +- 0.03\n",
            "R2 Score Test: 0.6448316482280203\n",
            "================================================================================\n",
            "Treinando Modelo OrthogonalMatchingPursuit\n",
            "R2 Score Train: 0.6256572870612798\n",
            "R2 Score Valid: 0.62 +- 0.04\n",
            "R2 Score Test: 0.4850259732055404\n",
            "================================================================================\n",
            "Treinando Modelo OrthogonalMatchingPursuitCV\n",
            "R2 Score Train: 0.6949996135157471\n",
            "R2 Score Valid: 0.69 +- 0.04\n",
            "R2 Score Test: 0.5629558167496815\n",
            "================================================================================\n",
            "Treinando Modelo PLSCanonical\n",
            "R2 Score Train: 0.3593709550845984\n",
            "R2 Score Valid: 0.35 +- 0.01\n",
            "R2 Score Test: 0.3414828762223161\n",
            "================================================================================\n",
            "Treinando Modelo PLSRegression\n",
            "R2 Score Train: 0.6884671082779386\n",
            "R2 Score Valid: 0.69 +- 0.04\n",
            "R2 Score Test: 0.5611160410265197\n",
            "================================================================================\n",
            "Treinando Modelo PassiveAggressiveRegressor\n",
            "R2 Score Train: 0.46361238466452603\n",
            "R2 Score Valid: 0.22 +- 0.22\n",
            "R2 Score Test: 0.4483213051252356\n",
            "================================================================================\n",
            "Treinando Modelo RANSACRegressor\n"
          ],
          "name": "stdout"
        },
        {
          "output_type": "stream",
          "text": [
            "/usr/local/lib/python3.6/dist-packages/sklearn/cross_decomposition/_pls.py:321: UserWarning: Y residual constant at iteration 1\n",
            "  warnings.warn('Y residual constant at iteration %s' % k)\n",
            "/usr/local/lib/python3.6/dist-packages/sklearn/cross_decomposition/_pls.py:321: UserWarning: Y residual constant at iteration 1\n",
            "  warnings.warn('Y residual constant at iteration %s' % k)\n",
            "/usr/local/lib/python3.6/dist-packages/sklearn/cross_decomposition/_pls.py:321: UserWarning: Y residual constant at iteration 1\n",
            "  warnings.warn('Y residual constant at iteration %s' % k)\n",
            "/usr/local/lib/python3.6/dist-packages/sklearn/cross_decomposition/_pls.py:321: UserWarning: Y residual constant at iteration 1\n",
            "  warnings.warn('Y residual constant at iteration %s' % k)\n",
            "/usr/local/lib/python3.6/dist-packages/sklearn/cross_decomposition/_pls.py:321: UserWarning: Y residual constant at iteration 1\n",
            "  warnings.warn('Y residual constant at iteration %s' % k)\n",
            "/usr/local/lib/python3.6/dist-packages/sklearn/cross_decomposition/_pls.py:321: UserWarning: Y residual constant at iteration 1\n",
            "  warnings.warn('Y residual constant at iteration %s' % k)\n"
          ],
          "name": "stderr"
        },
        {
          "output_type": "stream",
          "text": [
            "R2 Score Train: 0.6805946504791909\n",
            "R2 Score Valid: 0.64 +- 0.05\n",
            "R2 Score Test: 0.5387789184767129\n",
            "================================================================================\n",
            "Treinando Modelo RandomForestRegressor\n",
            "R2 Score Train: 0.8993198680937058\n",
            "R2 Score Valid: 0.70 +- 0.02\n",
            "R2 Score Test: 0.6478114501575358\n",
            "================================================================================\n",
            "Treinando Modelo Ridge\n",
            "R2 Score Train: 0.6949954947925869\n",
            "R2 Score Valid: 0.69 +- 0.04\n",
            "R2 Score Test: 0.5628158188285837\n",
            "================================================================================\n",
            "Treinando Modelo RidgeCV\n",
            "R2 Score Train: 0.694995494792588\n",
            "R2 Score Valid: 0.69 +- 0.04\n",
            "R2 Score Test: 0.5628158188285721\n",
            "================================================================================\n",
            "Treinando Modelo SGDRegressor\n",
            "R2 Score Train: 0.6728378557060024\n",
            "R2 Score Valid: 0.67 +- 0.05\n",
            "R2 Score Test: 0.5309861383281578\n",
            "================================================================================\n",
            "Treinando Modelo SVR\n",
            "R2 Score Train: 0.7331335431720392\n",
            "R2 Score Valid: 0.72 +- 0.03\n",
            "R2 Score Test: 0.6424482920301618\n",
            "================================================================================\n",
            "Treinando Modelo TheilSenRegressor\n",
            "R2 Score Train: 0.6663817818051431\n",
            "R2 Score Valid: 0.67 +- 0.04\n",
            "R2 Score Test: 0.5165911790625808\n",
            "================================================================================\n",
            "Treinando Modelo TransformedTargetRegressor\n",
            "R2 Score Train: 0.6943280898303709\n",
            "R2 Score Valid: 0.69 +- 0.04\n",
            "R2 Score Test: 0.5617659641427768\n",
            "================================================================================\n",
            "Treinando Modelo LGBMRegressor\n",
            "R2 Score Train: 0.8335649897226411\n",
            "R2 Score Valid: 0.73 +- 0.01\n",
            "R2 Score Test: 0.6524018217807195\n",
            "================================================================================\n",
            "Treinando Modelo XGBRegressor\n",
            "[19:57:41] WARNING: /workspace/src/objective/regression_obj.cu:152: reg:linear is now deprecated in favor of reg:squarederror.\n",
            "[19:57:41] WARNING: /workspace/src/objective/regression_obj.cu:152: reg:linear is now deprecated in favor of reg:squarederror.\n",
            "[19:57:41] WARNING: /workspace/src/objective/regression_obj.cu:152: reg:linear is now deprecated in favor of reg:squarederror.\n",
            "[19:57:41] WARNING: /workspace/src/objective/regression_obj.cu:152: reg:linear is now deprecated in favor of reg:squarederror.\n",
            "[19:57:42] WARNING: /workspace/src/objective/regression_obj.cu:152: reg:linear is now deprecated in favor of reg:squarederror.\n",
            "[19:57:42] WARNING: /workspace/src/objective/regression_obj.cu:152: reg:linear is now deprecated in favor of reg:squarederror.\n",
            "R2 Score Train: 0.8173085197618972\n",
            "R2 Score Valid: 0.74 +- 0.01\n",
            "R2 Score Test: 0.6748886425763778\n",
            "================================================================================\n"
          ],
          "name": "stdout"
        }
      ]
    },
    {
      "cell_type": "markdown",
      "metadata": {
        "id": "4E8E96xUgdkD"
      },
      "source": [
        "## 4) Criando um relatório"
      ]
    },
    {
      "cell_type": "markdown",
      "metadata": {
        "id": "SOFv0uLBgq5Z"
      },
      "source": [
        "Para melhor avaliarmos as performances dos modelos podemos criar um relatório com os resultados finais de cada um deles."
      ]
    },
    {
      "cell_type": "code",
      "metadata": {
        "id": "7yzfWrylgjiN",
        "outputId": "807e587d-239c-400b-d839-52197a830430",
        "colab": {
          "base_uri": "https://localhost:8080/",
          "height": 359
        }
      },
      "source": [
        "relatorio = pd.DataFrame(relatorio).sort_values(by='cv_scores_mean', ascending=False)\n",
        "relatorio.head(10)"
      ],
      "execution_count": 17,
      "outputs": [
        {
          "output_type": "execute_result",
          "data": {
            "text/html": [
              "<div>\n",
              "<style scoped>\n",
              "    .dataframe tbody tr th:only-of-type {\n",
              "        vertical-align: middle;\n",
              "    }\n",
              "\n",
              "    .dataframe tbody tr th {\n",
              "        vertical-align: top;\n",
              "    }\n",
              "\n",
              "    .dataframe thead th {\n",
              "        text-align: right;\n",
              "    }\n",
              "</style>\n",
              "<table border=\"1\" class=\"dataframe\">\n",
              "  <thead>\n",
              "    <tr style=\"text-align: right;\">\n",
              "      <th></th>\n",
              "      <th>nome</th>\n",
              "      <th>train_score</th>\n",
              "      <th>cv_scores_mean</th>\n",
              "      <th>test_score</th>\n",
              "      <th>estimador</th>\n",
              "    </tr>\n",
              "  </thead>\n",
              "  <tbody>\n",
              "    <tr>\n",
              "      <th>11</th>\n",
              "      <td>GradientBoostingRegressor</td>\n",
              "      <td>0.827916</td>\n",
              "      <td>0.740028</td>\n",
              "      <td>0.664573</td>\n",
              "      <td>([DecisionTreeRegressor(ccp_alpha=0.0, criteri...</td>\n",
              "    </tr>\n",
              "    <tr>\n",
              "      <th>41</th>\n",
              "      <td>XGBRegressor</td>\n",
              "      <td>0.817309</td>\n",
              "      <td>0.739650</td>\n",
              "      <td>0.674889</td>\n",
              "      <td>XGBRegressor(base_score=0.5, booster='gbtree',...</td>\n",
              "    </tr>\n",
              "    <tr>\n",
              "      <th>40</th>\n",
              "      <td>LGBMRegressor</td>\n",
              "      <td>0.833565</td>\n",
              "      <td>0.731345</td>\n",
              "      <td>0.652402</td>\n",
              "      <td>LGBMRegressor(boosting_type='gbdt', class_weig...</td>\n",
              "    </tr>\n",
              "    <tr>\n",
              "      <th>12</th>\n",
              "      <td>HistGradientBoostingRegressor</td>\n",
              "      <td>0.837885</td>\n",
              "      <td>0.728931</td>\n",
              "      <td>0.662837</td>\n",
              "      <td>HistGradientBoostingRegressor(l2_regularizatio...</td>\n",
              "    </tr>\n",
              "    <tr>\n",
              "      <th>26</th>\n",
              "      <td>NuSVR</td>\n",
              "      <td>0.735317</td>\n",
              "      <td>0.726797</td>\n",
              "      <td>0.644832</td>\n",
              "      <td>NuSVR(C=1.0, cache_size=200, coef0=0.0, degree...</td>\n",
              "    </tr>\n",
              "    <tr>\n",
              "      <th>37</th>\n",
              "      <td>SVR</td>\n",
              "      <td>0.733134</td>\n",
              "      <td>0.723368</td>\n",
              "      <td>0.642448</td>\n",
              "      <td>SVR(C=1.0, cache_size=200, coef0=0.0, degree=3...</td>\n",
              "    </tr>\n",
              "    <tr>\n",
              "      <th>14</th>\n",
              "      <td>KNeighborsRegressor</td>\n",
              "      <td>0.806649</td>\n",
              "      <td>0.707182</td>\n",
              "      <td>0.639989</td>\n",
              "      <td>KNeighborsRegressor(algorithm='auto', leaf_siz...</td>\n",
              "    </tr>\n",
              "    <tr>\n",
              "      <th>33</th>\n",
              "      <td>RandomForestRegressor</td>\n",
              "      <td>0.899320</td>\n",
              "      <td>0.703635</td>\n",
              "      <td>0.647811</td>\n",
              "      <td>(DecisionTreeRegressor(ccp_alpha=0.0, criterio...</td>\n",
              "    </tr>\n",
              "    <tr>\n",
              "      <th>25</th>\n",
              "      <td>MLPRegressor</td>\n",
              "      <td>0.722581</td>\n",
              "      <td>0.698445</td>\n",
              "      <td>0.602008</td>\n",
              "      <td>MLPRegressor(activation='relu', alpha=0.0001, ...</td>\n",
              "    </tr>\n",
              "    <tr>\n",
              "      <th>2</th>\n",
              "      <td>BaggingRegressor</td>\n",
              "      <td>0.897322</td>\n",
              "      <td>0.696705</td>\n",
              "      <td>0.630813</td>\n",
              "      <td>(DecisionTreeRegressor(ccp_alpha=0.0, criterio...</td>\n",
              "    </tr>\n",
              "  </tbody>\n",
              "</table>\n",
              "</div>"
            ],
            "text/plain": [
              "                             nome  ...                                          estimador\n",
              "11      GradientBoostingRegressor  ...  ([DecisionTreeRegressor(ccp_alpha=0.0, criteri...\n",
              "41                   XGBRegressor  ...  XGBRegressor(base_score=0.5, booster='gbtree',...\n",
              "40                  LGBMRegressor  ...  LGBMRegressor(boosting_type='gbdt', class_weig...\n",
              "12  HistGradientBoostingRegressor  ...  HistGradientBoostingRegressor(l2_regularizatio...\n",
              "26                          NuSVR  ...  NuSVR(C=1.0, cache_size=200, coef0=0.0, degree...\n",
              "37                            SVR  ...  SVR(C=1.0, cache_size=200, coef0=0.0, degree=3...\n",
              "14            KNeighborsRegressor  ...  KNeighborsRegressor(algorithm='auto', leaf_siz...\n",
              "33          RandomForestRegressor  ...  (DecisionTreeRegressor(ccp_alpha=0.0, criterio...\n",
              "25                   MLPRegressor  ...  MLPRegressor(activation='relu', alpha=0.0001, ...\n",
              "2                BaggingRegressor  ...  (DecisionTreeRegressor(ccp_alpha=0.0, criterio...\n",
              "\n",
              "[10 rows x 5 columns]"
            ]
          },
          "metadata": {
            "tags": []
          },
          "execution_count": 17
        }
      ]
    }
  ]
}