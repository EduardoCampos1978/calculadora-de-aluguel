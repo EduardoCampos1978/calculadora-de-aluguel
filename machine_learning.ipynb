{
  "nbformat": 4,
  "nbformat_minor": 0,
  "metadata": {
    "colab": {
      "name": "machine-learning.ipynb",
      "provenance": [],
      "authorship_tag": "ABX9TyMGalvFmOBKnTT5MKXXPhrM",
      "include_colab_link": true
    },
    "kernelspec": {
      "name": "python3",
      "display_name": "Python 3"
    }
  },
  "cells": [
    {
      "cell_type": "markdown",
      "metadata": {
        "id": "view-in-github",
        "colab_type": "text"
      },
      "source": [
        "<a href=\"https://colab.research.google.com/github/Mario-RJunior/calculadora-imoveis/blob/master/machine_learning.ipynb\" target=\"_parent\"><img src=\"https://colab.research.google.com/assets/colab-badge.svg\" alt=\"Open In Colab\"/></a>"
      ]
    },
    {
      "cell_type": "markdown",
      "metadata": {
        "id": "LpOq4u--M7R2",
        "colab_type": "text"
      },
      "source": [
        "# Machine Learning"
      ]
    },
    {
      "cell_type": "markdown",
      "metadata": {
        "id": "h8xvoezyNHcE",
        "colab_type": "text"
      },
      "source": [
        "Agora é a etapa em que iremos gerar um modelo usando técnicas de Machine Learning para gerar um modelo que irá nos ajudar a prever o valor de aluguéis de imóveis da cidade de São Paulo. Para isso usaremos como base os arquivos csv gerados durante a [análise exploratória](https://github.com/Mario-RJunior/calculadora-imoveis/blob/master/analise_exploratoria.ipynb)."
      ]
    },
    {
      "cell_type": "markdown",
      "metadata": {
        "id": "_wUzdqBant0D",
        "colab_type": "text"
      },
      "source": [
        "## 1) Importar os dados"
      ]
    },
    {
      "cell_type": "code",
      "metadata": {
        "id": "I0mXOu7GDqI7",
        "colab_type": "code",
        "colab": {}
      },
      "source": [
        "import pandas as pd\n",
        "from sklearn.linear_model import LinearRegression\n",
        "from sklearn.neighbors import KNeighborsRegressor\n",
        "from sklearn.ensemble import RandomForestRegressor, AdaBoostRegressor\n",
        "from sklearn.metrics import r2_score"
      ],
      "execution_count": 16,
      "outputs": []
    },
    {
      "cell_type": "code",
      "metadata": {
        "id": "TgYFC3Kwn49T",
        "colab_type": "code",
        "colab": {}
      },
      "source": [
        "treino = pd.read_csv('https://raw.githubusercontent.com/Mario-RJunior/calculadora-imoveis/master/treino_preprocessado.csv')\n",
        "teste = pd.read_csv('https://raw.githubusercontent.com/Mario-RJunior/calculadora-imoveis/master/teste_preprocessado.csv')"
      ],
      "execution_count": 6,
      "outputs": []
    },
    {
      "cell_type": "code",
      "metadata": {
        "id": "WQEdE4emoKTS",
        "colab_type": "code",
        "colab": {}
      },
      "source": [
        "# Divisão para variáveis X e y\n",
        "X_train = treino.drop(labels='preco', axis=1)\n",
        "y_train = treino['preco']\n",
        "X_test = teste.drop('preco', axis=1)\n",
        "y_test = teste['preco']"
      ],
      "execution_count": 7,
      "outputs": []
    },
    {
      "cell_type": "markdown",
      "metadata": {
        "id": "3X-gkUmytwzE",
        "colab_type": "text"
      },
      "source": [
        "## 2) Modelo Baseline"
      ]
    },
    {
      "cell_type": "markdown",
      "metadata": {
        "id": "NRtVrP_zt8db",
        "colab_type": "text"
      },
      "source": [
        "Inicialmente criaremos um modelo denominado de ***Baseline*** que servirá como parâmetro para comparar seu resultado com os dos outros modelos que iremos gerar. É importante ressaltar que para que um modelo seja considerado bom ele deve ser superior ao baseline.\n",
        "\n",
        "Como modelo baseline usaremos um algorítmo de regressão linear."
      ]
    },
    {
      "cell_type": "code",
      "metadata": {
        "id": "WKKZKHtst71t",
        "colab_type": "code",
        "colab": {
          "base_uri": "https://localhost:8080/",
          "height": 34
        },
        "outputId": "f9338cd5-92d2-4256-f704-9654b5aecb41"
      },
      "source": [
        "# Criando o modelo de regressão linear\n",
        "rl = LinearRegression()\n",
        "rl.fit(X_train, y_train)\n",
        "rl.score(X_test, y_test)"
      ],
      "execution_count": 8,
      "outputs": [
        {
          "output_type": "execute_result",
          "data": {
            "text/plain": [
              "0.44902642400898723"
            ]
          },
          "metadata": {
            "tags": []
          },
          "execution_count": 8
        }
      ]
    },
    {
      "cell_type": "markdown",
      "metadata": {
        "id": "Cj4GGgvyvRX-",
        "colab_type": "text"
      },
      "source": [
        "Note que este modelo tem um score de aproximadamente 0.45, que é bem ruim. Agora, precisamos testar outros modelos para encontrar o melhor e mais adequado possível."
      ]
    },
    {
      "cell_type": "markdown",
      "metadata": {
        "id": "G0JiI7ecbunJ",
        "colab_type": "text"
      },
      "source": [
        "## 3) Testando outros modelos"
      ]
    },
    {
      "cell_type": "markdown",
      "metadata": {
        "id": "WP4zjyDjb58_",
        "colab_type": "text"
      },
      "source": [
        "### 3.1) K-Nearest Neighbors (KNN)"
      ]
    },
    {
      "cell_type": "code",
      "metadata": {
        "id": "Pb3WsYYCb0vP",
        "colab_type": "code",
        "colab": {
          "base_uri": "https://localhost:8080/",
          "height": 68
        },
        "outputId": "1ea162c0-5dc4-45d1-b5ee-09e50369fc27"
      },
      "source": [
        "neigh = KNeighborsRegressor()\n",
        "neigh.fit(X_train, y_train)"
      ],
      "execution_count": 10,
      "outputs": [
        {
          "output_type": "execute_result",
          "data": {
            "text/plain": [
              "KNeighborsRegressor(algorithm='auto', leaf_size=30, metric='minkowski',\n",
              "                    metric_params=None, n_jobs=None, n_neighbors=5, p=2,\n",
              "                    weights='uniform')"
            ]
          },
          "metadata": {
            "tags": []
          },
          "execution_count": 10
        }
      ]
    },
    {
      "cell_type": "code",
      "metadata": {
        "id": "bYr2RCubcdvX",
        "colab_type": "code",
        "colab": {
          "base_uri": "https://localhost:8080/",
          "height": 34
        },
        "outputId": "47dad77d-9e34-41f0-bc1f-505d05b472b4"
      },
      "source": [
        "neigh.score(X_test, y_test)"
      ],
      "execution_count": 12,
      "outputs": [
        {
          "output_type": "execute_result",
          "data": {
            "text/plain": [
              "0.396512595795555"
            ]
          },
          "metadata": {
            "tags": []
          },
          "execution_count": 12
        }
      ]
    },
    {
      "cell_type": "markdown",
      "metadata": {
        "id": "HKWkllOWdWSQ",
        "colab_type": "text"
      },
      "source": [
        "### 3.2) Random Forest"
      ]
    },
    {
      "cell_type": "code",
      "metadata": {
        "id": "1AKWTw5ydA-i",
        "colab_type": "code",
        "colab": {
          "base_uri": "https://localhost:8080/",
          "height": 136
        },
        "outputId": "b94eb373-3c18-4e73-d1ee-9e94ce554db3"
      },
      "source": [
        "rf = RandomForestRegressor()\n",
        "rf.fit(X_train, y_train)"
      ],
      "execution_count": 14,
      "outputs": [
        {
          "output_type": "execute_result",
          "data": {
            "text/plain": [
              "RandomForestRegressor(bootstrap=True, ccp_alpha=0.0, criterion='mse',\n",
              "                      max_depth=None, max_features='auto', max_leaf_nodes=None,\n",
              "                      max_samples=None, min_impurity_decrease=0.0,\n",
              "                      min_impurity_split=None, min_samples_leaf=1,\n",
              "                      min_samples_split=2, min_weight_fraction_leaf=0.0,\n",
              "                      n_estimators=100, n_jobs=None, oob_score=False,\n",
              "                      random_state=None, verbose=0, warm_start=False)"
            ]
          },
          "metadata": {
            "tags": []
          },
          "execution_count": 14
        }
      ]
    },
    {
      "cell_type": "code",
      "metadata": {
        "id": "j65FN2FcddLW",
        "colab_type": "code",
        "colab": {
          "base_uri": "https://localhost:8080/",
          "height": 34
        },
        "outputId": "e12cf749-ac10-4947-db11-c4a492077f04"
      },
      "source": [
        "rf.score(X_test, y_test)"
      ],
      "execution_count": 15,
      "outputs": [
        {
          "output_type": "execute_result",
          "data": {
            "text/plain": [
              "0.42453704379810175"
            ]
          },
          "metadata": {
            "tags": []
          },
          "execution_count": 15
        }
      ]
    },
    {
      "cell_type": "markdown",
      "metadata": {
        "id": "D0P1e61ldzip",
        "colab_type": "text"
      },
      "source": [
        "### 3.3) Adaboost"
      ]
    },
    {
      "cell_type": "code",
      "metadata": {
        "id": "evGPW7RQdjgP",
        "colab_type": "code",
        "colab": {
          "base_uri": "https://localhost:8080/",
          "height": 51
        },
        "outputId": "fefadb67-aabe-4a02-bf29-40f57dd688ae"
      },
      "source": [
        "regr = AdaBoostRegressor()\n",
        "regr.fit(X_train, y_train)"
      ],
      "execution_count": 18,
      "outputs": [
        {
          "output_type": "execute_result",
          "data": {
            "text/plain": [
              "AdaBoostRegressor(base_estimator=None, learning_rate=1.0, loss='linear',\n",
              "                  n_estimators=50, random_state=None)"
            ]
          },
          "metadata": {
            "tags": []
          },
          "execution_count": 18
        }
      ]
    },
    {
      "cell_type": "code",
      "metadata": {
        "id": "W8lc3mP-dx7E",
        "colab_type": "code",
        "colab": {
          "base_uri": "https://localhost:8080/",
          "height": 34
        },
        "outputId": "9dac1c37-48e4-4b94-9431-70d19a8972fe"
      },
      "source": [
        "regr.score(X_test, y_test)"
      ],
      "execution_count": 19,
      "outputs": [
        {
          "output_type": "execute_result",
          "data": {
            "text/plain": [
              "0.40008418343010127"
            ]
          },
          "metadata": {
            "tags": []
          },
          "execution_count": 19
        }
      ]
    }
  ]
}