{
  "nbformat": 4,
  "nbformat_minor": 0,
  "metadata": {
    "colab": {
      "name": "machine-learning.ipynb",
      "provenance": [],
      "include_colab_link": true
    },
    "kernelspec": {
      "name": "python3",
      "display_name": "Python 3"
    }
  },
  "cells": [
    {
      "cell_type": "markdown",
      "metadata": {
        "id": "view-in-github",
        "colab_type": "text"
      },
      "source": [
        "<a href=\"https://colab.research.google.com/github/Mario-RJunior/calculadora-imoveis/blob/master/machine_learning.ipynb\" target=\"_parent\"><img src=\"https://colab.research.google.com/assets/colab-badge.svg\" alt=\"Open In Colab\"/></a>"
      ]
    },
    {
      "cell_type": "markdown",
      "metadata": {
        "id": "LpOq4u--M7R2"
      },
      "source": [
        "# Machine Learning"
      ]
    },
    {
      "cell_type": "markdown",
      "metadata": {
        "id": "h8xvoezyNHcE"
      },
      "source": [
        "Agora é a etapa em que iremos gerar um modelo usando técnicas de Machine Learning para gerar um modelo que irá nos ajudar a prever o valor de aluguéis de imóveis da cidade de São Paulo. Para isso usaremos como base os arquivos csv gerados durante a [análise exploratória](https://github.com/Mario-RJunior/calculadora-imoveis/blob/master/analise_exploratoria.ipynb)."
      ]
    },
    {
      "cell_type": "markdown",
      "metadata": {
        "id": "_wUzdqBant0D"
      },
      "source": [
        "## 1) Importar os dados"
      ]
    },
    {
      "cell_type": "code",
      "metadata": {
        "id": "I0mXOu7GDqI7"
      },
      "source": [
        "import pandas as pd\n",
        "from sklearn.linear_model import LinearRegression\n",
        "from sklearn.neighbors import KNeighborsRegressor\n",
        "from sklearn.ensemble import RandomForestRegressor, AdaBoostRegressor\n",
        "from sklearn.metrics import r2_score"
      ],
      "execution_count": 1,
      "outputs": []
    },
    {
      "cell_type": "code",
      "metadata": {
        "id": "TgYFC3Kwn49T"
      },
      "source": [
        "treino = pd.read_csv('https://raw.githubusercontent.com/Mario-RJunior/calculadora-imoveis/master/treino_preprocessado.csv')\n",
        "teste = pd.read_csv('https://raw.githubusercontent.com/Mario-RJunior/calculadora-imoveis/master/teste_preprocessado.csv')"
      ],
      "execution_count": 2,
      "outputs": []
    },
    {
      "cell_type": "markdown",
      "metadata": {
        "id": "arVEwvDtfgn7"
      },
      "source": [
        "- Alterando a ordem das colunas"
      ]
    },
    {
      "cell_type": "code",
      "metadata": {
        "id": "kGrohQUHdNkG"
      },
      "source": [
        "# Definindo a ordem das colunas\r\n",
        "order_columns = ['zona_leste', 'zona_norte', 'zona_oeste', 'zona_sul', 'quartos', 'area', 'preco'\t]\r\n",
        "\r\n",
        "# Alterando a ordem\r\n",
        "treino = treino.reindex(columns=order_columns)\r\n",
        "teste = teste.reindex(columns=order_columns)"
      ],
      "execution_count": 3,
      "outputs": []
    },
    {
      "cell_type": "code",
      "metadata": {
        "id": "ElgbbxGHabev",
        "colab": {
          "base_uri": "https://localhost:8080/",
          "height": 204
        },
        "outputId": "7b5cdc81-58f1-48b3-ddbe-cead910202e0"
      },
      "source": [
        "# Cabeçalho da base de treinos\r\n",
        "treino.head()"
      ],
      "execution_count": 4,
      "outputs": [
        {
          "output_type": "execute_result",
          "data": {
            "text/html": [
              "<div>\n",
              "<style scoped>\n",
              "    .dataframe tbody tr th:only-of-type {\n",
              "        vertical-align: middle;\n",
              "    }\n",
              "\n",
              "    .dataframe tbody tr th {\n",
              "        vertical-align: top;\n",
              "    }\n",
              "\n",
              "    .dataframe thead th {\n",
              "        text-align: right;\n",
              "    }\n",
              "</style>\n",
              "<table border=\"1\" class=\"dataframe\">\n",
              "  <thead>\n",
              "    <tr style=\"text-align: right;\">\n",
              "      <th></th>\n",
              "      <th>zona_leste</th>\n",
              "      <th>zona_norte</th>\n",
              "      <th>zona_oeste</th>\n",
              "      <th>zona_sul</th>\n",
              "      <th>quartos</th>\n",
              "      <th>area</th>\n",
              "      <th>preco</th>\n",
              "    </tr>\n",
              "  </thead>\n",
              "  <tbody>\n",
              "    <tr>\n",
              "      <th>0</th>\n",
              "      <td>0</td>\n",
              "      <td>0</td>\n",
              "      <td>1</td>\n",
              "      <td>0</td>\n",
              "      <td>0.693147</td>\n",
              "      <td>3.044522</td>\n",
              "      <td>6.908755</td>\n",
              "    </tr>\n",
              "    <tr>\n",
              "      <th>1</th>\n",
              "      <td>0</td>\n",
              "      <td>1</td>\n",
              "      <td>0</td>\n",
              "      <td>0</td>\n",
              "      <td>0.693147</td>\n",
              "      <td>3.713572</td>\n",
              "      <td>7.601402</td>\n",
              "    </tr>\n",
              "    <tr>\n",
              "      <th>2</th>\n",
              "      <td>0</td>\n",
              "      <td>0</td>\n",
              "      <td>1</td>\n",
              "      <td>0</td>\n",
              "      <td>1.609438</td>\n",
              "      <td>5.707110</td>\n",
              "      <td>9.615205</td>\n",
              "    </tr>\n",
              "    <tr>\n",
              "      <th>3</th>\n",
              "      <td>0</td>\n",
              "      <td>0</td>\n",
              "      <td>0</td>\n",
              "      <td>1</td>\n",
              "      <td>1.098612</td>\n",
              "      <td>4.110874</td>\n",
              "      <td>7.496097</td>\n",
              "    </tr>\n",
              "    <tr>\n",
              "      <th>4</th>\n",
              "      <td>0</td>\n",
              "      <td>0</td>\n",
              "      <td>1</td>\n",
              "      <td>0</td>\n",
              "      <td>1.098612</td>\n",
              "      <td>5.493061</td>\n",
              "      <td>8.412055</td>\n",
              "    </tr>\n",
              "  </tbody>\n",
              "</table>\n",
              "</div>"
            ],
            "text/plain": [
              "   zona_leste  zona_norte  zona_oeste  zona_sul   quartos      area     preco\n",
              "0           0           0           1         0  0.693147  3.044522  6.908755\n",
              "1           0           1           0         0  0.693147  3.713572  7.601402\n",
              "2           0           0           1         0  1.609438  5.707110  9.615205\n",
              "3           0           0           0         1  1.098612  4.110874  7.496097\n",
              "4           0           0           1         0  1.098612  5.493061  8.412055"
            ]
          },
          "metadata": {
            "tags": []
          },
          "execution_count": 4
        }
      ]
    },
    {
      "cell_type": "code",
      "metadata": {
        "id": "9-szqSwRah9f",
        "colab": {
          "base_uri": "https://localhost:8080/",
          "height": 204
        },
        "outputId": "46552377-3c6c-4582-dfbe-c35a3e4eb72f"
      },
      "source": [
        "# Cabeçalho da base de teste\r\n",
        "teste.head()"
      ],
      "execution_count": 5,
      "outputs": [
        {
          "output_type": "execute_result",
          "data": {
            "text/html": [
              "<div>\n",
              "<style scoped>\n",
              "    .dataframe tbody tr th:only-of-type {\n",
              "        vertical-align: middle;\n",
              "    }\n",
              "\n",
              "    .dataframe tbody tr th {\n",
              "        vertical-align: top;\n",
              "    }\n",
              "\n",
              "    .dataframe thead th {\n",
              "        text-align: right;\n",
              "    }\n",
              "</style>\n",
              "<table border=\"1\" class=\"dataframe\">\n",
              "  <thead>\n",
              "    <tr style=\"text-align: right;\">\n",
              "      <th></th>\n",
              "      <th>zona_leste</th>\n",
              "      <th>zona_norte</th>\n",
              "      <th>zona_oeste</th>\n",
              "      <th>zona_sul</th>\n",
              "      <th>quartos</th>\n",
              "      <th>area</th>\n",
              "      <th>preco</th>\n",
              "    </tr>\n",
              "  </thead>\n",
              "  <tbody>\n",
              "    <tr>\n",
              "      <th>0</th>\n",
              "      <td>0</td>\n",
              "      <td>0</td>\n",
              "      <td>0</td>\n",
              "      <td>1</td>\n",
              "      <td>1.386294</td>\n",
              "      <td>4.465908</td>\n",
              "      <td>7.313887</td>\n",
              "    </tr>\n",
              "    <tr>\n",
              "      <th>1</th>\n",
              "      <td>0</td>\n",
              "      <td>0</td>\n",
              "      <td>0</td>\n",
              "      <td>1</td>\n",
              "      <td>1.386294</td>\n",
              "      <td>5.968708</td>\n",
              "      <td>10.596660</td>\n",
              "    </tr>\n",
              "    <tr>\n",
              "      <th>2</th>\n",
              "      <td>0</td>\n",
              "      <td>0</td>\n",
              "      <td>1</td>\n",
              "      <td>0</td>\n",
              "      <td>1.609438</td>\n",
              "      <td>6.196444</td>\n",
              "      <td>9.305741</td>\n",
              "    </tr>\n",
              "    <tr>\n",
              "      <th>3</th>\n",
              "      <td>1</td>\n",
              "      <td>0</td>\n",
              "      <td>0</td>\n",
              "      <td>0</td>\n",
              "      <td>0.693147</td>\n",
              "      <td>4.795791</td>\n",
              "      <td>7.266129</td>\n",
              "    </tr>\n",
              "    <tr>\n",
              "      <th>4</th>\n",
              "      <td>0</td>\n",
              "      <td>0</td>\n",
              "      <td>1</td>\n",
              "      <td>0</td>\n",
              "      <td>0.693147</td>\n",
              "      <td>3.970292</td>\n",
              "      <td>8.537192</td>\n",
              "    </tr>\n",
              "  </tbody>\n",
              "</table>\n",
              "</div>"
            ],
            "text/plain": [
              "   zona_leste  zona_norte  zona_oeste  zona_sul   quartos      area      preco\n",
              "0           0           0           0         1  1.386294  4.465908   7.313887\n",
              "1           0           0           0         1  1.386294  5.968708  10.596660\n",
              "2           0           0           1         0  1.609438  6.196444   9.305741\n",
              "3           1           0           0         0  0.693147  4.795791   7.266129\n",
              "4           0           0           1         0  0.693147  3.970292   8.537192"
            ]
          },
          "metadata": {
            "tags": []
          },
          "execution_count": 5
        }
      ]
    },
    {
      "cell_type": "code",
      "metadata": {
        "id": "WQEdE4emoKTS"
      },
      "source": [
        "# Divisão para variáveis X e y\n",
        "X_train = treino.drop(labels='preco', axis=1)\n",
        "y_train = treino['preco']\n",
        "X_test = teste.drop('preco', axis=1)\n",
        "y_test = teste['preco']"
      ],
      "execution_count": 6,
      "outputs": []
    },
    {
      "cell_type": "markdown",
      "metadata": {
        "id": "3X-gkUmytwzE"
      },
      "source": [
        "## 2) Modelo Baseline"
      ]
    },
    {
      "cell_type": "markdown",
      "metadata": {
        "id": "NRtVrP_zt8db"
      },
      "source": [
        "Inicialmente criaremos um modelo denominado de ***Baseline*** que servirá como parâmetro para comparar seu resultado com os dos outros modelos que iremos gerar. É importante ressaltar que para que um modelo seja considerado bom ele deve ser superior ao baseline.\n",
        "\n",
        "Como modelo baseline usaremos um algorítmo de regressão linear."
      ]
    },
    {
      "cell_type": "code",
      "metadata": {
        "id": "WKKZKHtst71t",
        "colab": {
          "base_uri": "https://localhost:8080/"
        },
        "outputId": "b3fe4cb9-ce70-4100-9f38-7dceb9f225a2"
      },
      "source": [
        "# Criando o modelo de regressão linear\n",
        "rl = LinearRegression()\n",
        "rl.fit(X_train, y_train)\n",
        "rl.score(X_test, y_test)"
      ],
      "execution_count": 7,
      "outputs": [
        {
          "output_type": "execute_result",
          "data": {
            "text/plain": [
              "0.5604465174223303"
            ]
          },
          "metadata": {
            "tags": []
          },
          "execution_count": 7
        }
      ]
    },
    {
      "cell_type": "markdown",
      "metadata": {
        "id": "Cj4GGgvyvRX-"
      },
      "source": [
        "Note que este modelo tem um score de aproximadamente 0.45, que é bem ruim. Agora, precisamos testar outros modelos para encontrar o melhor e mais adequado possível."
      ]
    },
    {
      "cell_type": "markdown",
      "metadata": {
        "id": "G0JiI7ecbunJ"
      },
      "source": [
        "## 3) Testando outros modelos"
      ]
    },
    {
      "cell_type": "markdown",
      "metadata": {
        "id": "WP4zjyDjb58_"
      },
      "source": [
        "### 3.1) K-Nearest Neighbors (KNN)"
      ]
    },
    {
      "cell_type": "code",
      "metadata": {
        "id": "Pb3WsYYCb0vP",
        "colab": {
          "base_uri": "https://localhost:8080/"
        },
        "outputId": "f4d8ab48-1272-4d66-8ec7-8d28810c0562"
      },
      "source": [
        "neigh = KNeighborsRegressor()\n",
        "neigh.fit(X_train, y_train)"
      ],
      "execution_count": 8,
      "outputs": [
        {
          "output_type": "execute_result",
          "data": {
            "text/plain": [
              "KNeighborsRegressor(algorithm='auto', leaf_size=30, metric='minkowski',\n",
              "                    metric_params=None, n_jobs=None, n_neighbors=5, p=2,\n",
              "                    weights='uniform')"
            ]
          },
          "metadata": {
            "tags": []
          },
          "execution_count": 8
        }
      ]
    },
    {
      "cell_type": "code",
      "metadata": {
        "id": "bYr2RCubcdvX",
        "colab": {
          "base_uri": "https://localhost:8080/"
        },
        "outputId": "f74a525f-786e-4b18-a367-ba2bc21ce9e5"
      },
      "source": [
        "neigh.score(X_test, y_test)"
      ],
      "execution_count": 9,
      "outputs": [
        {
          "output_type": "execute_result",
          "data": {
            "text/plain": [
              "0.6399890193124183"
            ]
          },
          "metadata": {
            "tags": []
          },
          "execution_count": 9
        }
      ]
    },
    {
      "cell_type": "markdown",
      "metadata": {
        "id": "HKWkllOWdWSQ"
      },
      "source": [
        "### 3.2) Random Forest"
      ]
    },
    {
      "cell_type": "code",
      "metadata": {
        "id": "1AKWTw5ydA-i",
        "colab": {
          "base_uri": "https://localhost:8080/"
        },
        "outputId": "96ccb48e-8b83-4f6e-f3be-e9086c5f6557"
      },
      "source": [
        "rf = RandomForestRegressor()\n",
        "rf.fit(X_train, y_train)"
      ],
      "execution_count": 10,
      "outputs": [
        {
          "output_type": "execute_result",
          "data": {
            "text/plain": [
              "RandomForestRegressor(bootstrap=True, ccp_alpha=0.0, criterion='mse',\n",
              "                      max_depth=None, max_features='auto', max_leaf_nodes=None,\n",
              "                      max_samples=None, min_impurity_decrease=0.0,\n",
              "                      min_impurity_split=None, min_samples_leaf=1,\n",
              "                      min_samples_split=2, min_weight_fraction_leaf=0.0,\n",
              "                      n_estimators=100, n_jobs=None, oob_score=False,\n",
              "                      random_state=None, verbose=0, warm_start=False)"
            ]
          },
          "metadata": {
            "tags": []
          },
          "execution_count": 10
        }
      ]
    },
    {
      "cell_type": "code",
      "metadata": {
        "id": "j65FN2FcddLW",
        "colab": {
          "base_uri": "https://localhost:8080/"
        },
        "outputId": "5fe676e0-ceb6-4933-c6bd-4a99ccc44e7d"
      },
      "source": [
        "rf.score(X_test, y_test)"
      ],
      "execution_count": 11,
      "outputs": [
        {
          "output_type": "execute_result",
          "data": {
            "text/plain": [
              "0.6401118217835746"
            ]
          },
          "metadata": {
            "tags": []
          },
          "execution_count": 11
        }
      ]
    },
    {
      "cell_type": "markdown",
      "metadata": {
        "id": "D0P1e61ldzip"
      },
      "source": [
        "### 3.3) Adaboost"
      ]
    },
    {
      "cell_type": "code",
      "metadata": {
        "id": "evGPW7RQdjgP",
        "colab": {
          "base_uri": "https://localhost:8080/"
        },
        "outputId": "c8a8ed50-a39b-4d0b-dd3e-0134ef901e3a"
      },
      "source": [
        "regr = AdaBoostRegressor()\n",
        "regr.fit(X_train, y_train)"
      ],
      "execution_count": 12,
      "outputs": [
        {
          "output_type": "execute_result",
          "data": {
            "text/plain": [
              "AdaBoostRegressor(base_estimator=None, learning_rate=1.0, loss='linear',\n",
              "                  n_estimators=50, random_state=None)"
            ]
          },
          "metadata": {
            "tags": []
          },
          "execution_count": 12
        }
      ]
    },
    {
      "cell_type": "code",
      "metadata": {
        "id": "W8lc3mP-dx7E",
        "colab": {
          "base_uri": "https://localhost:8080/"
        },
        "outputId": "caeff5e7-8e87-40a3-81e3-453772215921"
      },
      "source": [
        "regr.score(X_test, y_test)"
      ],
      "execution_count": 13,
      "outputs": [
        {
          "output_type": "execute_result",
          "data": {
            "text/plain": [
              "0.5889791482428012"
            ]
          },
          "metadata": {
            "tags": []
          },
          "execution_count": 13
        }
      ]
    },
    {
      "cell_type": "markdown",
      "metadata": {
        "id": "6Qu1DPkycENV"
      },
      "source": [
        "Podemos agora, afim de otimizar nosso tempo criar um modelo para diversos algorítmos simultaneamente."
      ]
    },
    {
      "cell_type": "code",
      "metadata": {
        "id": "jsNJEkNmcTd5"
      },
      "source": [
        "# Importando os estimadores\n",
        "from sklearn.linear_model import RidgeCV, Lasso, ElasticNet, LassoLars, HuberRegressor\n",
        "from sklearn.svm import SVR\n",
        "from sklearn.ensemble import GradientBoostingRegressor\n",
        "from sklearn.neural_network import MLPRegressor\n",
        "from sklearn.ensemble import RandomForestRegressor\n",
        "from lightgbm import LGBMRegressor\n",
        "from xgboost import XGBRegressor"
      ],
      "execution_count": 14,
      "outputs": []
    },
    {
      "cell_type": "code",
      "metadata": {
        "id": "noOe3Q-scuhw"
      },
      "source": [
        "# Criando uma lista com todos os estimadores\n",
        "reg_list = [RidgeCV(),\n",
        "            LGBMRegressor(), \n",
        "            XGBRegressor(objective='reg:squarederror'),\n",
        "            SVR(),\n",
        "            GradientBoostingRegressor(),\n",
        "            MLPRegressor()\n",
        "            ]"
      ],
      "execution_count": 15,
      "outputs": []
    },
    {
      "cell_type": "code",
      "metadata": {
        "id": "4U8fLkfjc9c3",
        "colab": {
          "base_uri": "https://localhost:8080/"
        },
        "outputId": "8711c8e6-e7c1-41f9-f82d-491a4e2255aa"
      },
      "source": [
        "# Criando o modelo\n",
        "from sklearn.model_selection import cross_val_score\n",
        "import numpy as np\n",
        "\n",
        "for reg in reg_list:\n",
        "    print(f'Treinando Modelo {reg.__class__.__name__}')\n",
        "    reg.fit(X_train, y_train)\n",
        "    \n",
        "    train_score = reg.score(X_train, y_train)\n",
        "    cv_scores = cross_val_score(reg, X_train, y_train)\n",
        "    test_score = reg.score(X_test, y_test)\n",
        "    \n",
        "    print(f\"R2 Score Train: {train_score}\")\n",
        "    print(f\"R2 Score Valid: {np.mean(cv_scores):.2f} +- {np.std(cv_scores):.2f}\")\n",
        "    print(f\"R2 Score Test: {test_score}\")\n",
        "    print('='*80)"
      ],
      "execution_count": 16,
      "outputs": [
        {
          "output_type": "stream",
          "text": [
            "Treinando Modelo RidgeCV\n",
            "R2 Score Train: 0.6949954947925867\n",
            "R2 Score Valid: 0.69 +- 0.04\n",
            "R2 Score Test: 0.5628158188285842\n",
            "================================================================================\n",
            "Treinando Modelo LGBMRegressor\n",
            "R2 Score Train: 0.8335649897226411\n",
            "R2 Score Valid: 0.73 +- 0.01\n",
            "R2 Score Test: 0.6524018217807195\n",
            "================================================================================\n",
            "Treinando Modelo XGBRegressor\n",
            "R2 Score Train: 0.8173085197618972\n",
            "R2 Score Valid: 0.74 +- 0.01\n",
            "R2 Score Test: 0.6754518346344691\n",
            "================================================================================\n",
            "Treinando Modelo SVR\n",
            "R2 Score Train: 0.7331335431720392\n",
            "R2 Score Valid: 0.72 +- 0.03\n",
            "R2 Score Test: 0.6424482920301618\n",
            "================================================================================\n",
            "Treinando Modelo GradientBoostingRegressor\n",
            "R2 Score Train: 0.8279163984754841\n",
            "R2 Score Valid: 0.74 +- 0.01\n",
            "R2 Score Test: 0.6641387415328062\n",
            "================================================================================\n",
            "Treinando Modelo MLPRegressor\n"
          ],
          "name": "stdout"
        },
        {
          "output_type": "stream",
          "text": [
            "/usr/local/lib/python3.6/dist-packages/sklearn/neural_network/_multilayer_perceptron.py:571: ConvergenceWarning: Stochastic Optimizer: Maximum iterations (200) reached and the optimization hasn't converged yet.\n",
            "  % self.max_iter, ConvergenceWarning)\n",
            "/usr/local/lib/python3.6/dist-packages/sklearn/neural_network/_multilayer_perceptron.py:571: ConvergenceWarning: Stochastic Optimizer: Maximum iterations (200) reached and the optimization hasn't converged yet.\n",
            "  % self.max_iter, ConvergenceWarning)\n",
            "/usr/local/lib/python3.6/dist-packages/sklearn/neural_network/_multilayer_perceptron.py:571: ConvergenceWarning: Stochastic Optimizer: Maximum iterations (200) reached and the optimization hasn't converged yet.\n",
            "  % self.max_iter, ConvergenceWarning)\n",
            "/usr/local/lib/python3.6/dist-packages/sklearn/neural_network/_multilayer_perceptron.py:571: ConvergenceWarning: Stochastic Optimizer: Maximum iterations (200) reached and the optimization hasn't converged yet.\n",
            "  % self.max_iter, ConvergenceWarning)\n",
            "/usr/local/lib/python3.6/dist-packages/sklearn/neural_network/_multilayer_perceptron.py:571: ConvergenceWarning: Stochastic Optimizer: Maximum iterations (200) reached and the optimization hasn't converged yet.\n",
            "  % self.max_iter, ConvergenceWarning)\n"
          ],
          "name": "stderr"
        },
        {
          "output_type": "stream",
          "text": [
            "R2 Score Train: 0.722333753655436\n",
            "R2 Score Valid: 0.70 +- 0.05\n",
            "R2 Score Test: 0.6035065145791316\n",
            "================================================================================\n"
          ],
          "name": "stdout"
        },
        {
          "output_type": "stream",
          "text": [
            "/usr/local/lib/python3.6/dist-packages/sklearn/neural_network/_multilayer_perceptron.py:571: ConvergenceWarning: Stochastic Optimizer: Maximum iterations (200) reached and the optimization hasn't converged yet.\n",
            "  % self.max_iter, ConvergenceWarning)\n"
          ],
          "name": "stderr"
        }
      ]
    },
    {
      "cell_type": "markdown",
      "metadata": {
        "id": "isOYJYLEe5_-"
      },
      "source": [
        "Para fazermos um teste com outros estimadores, podemos agora extrapolar e fazer uma tentativa com todos os modelos regressores do Sklearn."
      ]
    },
    {
      "cell_type": "code",
      "metadata": {
        "id": "RX93Dirie4zp"
      },
      "source": [
        "# Testando com todos os regressores do sklearn\n",
        "from sklearn.utils import all_estimators\n",
        "\n",
        "estimators = all_estimators(type_filter='regressor')\n",
        "\n",
        "relatorio = {'nome':[],\n",
        "             'train_score':[],\n",
        "             'cv_scores_mean':[],\n",
        "             'test_score':[],\n",
        "             'estimador':[]\n",
        "             }\n",
        "\n",
        "ignore_list = ['IsotonicRegression',\n",
        " 'MultiOutputRegressor',\n",
        " 'ElasticNet',\n",
        " 'MultiTaskElasticNet',\n",
        " 'MultiTaskElasticNetCV',\n",
        " 'MultiTaskLasso',\n",
        " 'MultiTaskLassoCV',\n",
        " 'RadiusNeighborsRegressor',\n",
        " 'RegressorChain',\n",
        " 'StackingRegressor',\n",
        " 'VotingRegressor']"
      ],
      "execution_count": 17,
      "outputs": []
    },
    {
      "cell_type": "code",
      "metadata": {
        "id": "b0k__M08fIzv"
      },
      "source": [
        "estimators.extend(\n",
        "    [('LGBMRegressor', LGBMRegressor),\n",
        "     ('XGBRegressor', XGBRegressor)]\n",
        ")"
      ],
      "execution_count": 18,
      "outputs": []
    },
    {
      "cell_type": "code",
      "metadata": {
        "id": "M-xj32ahfM5n",
        "colab": {
          "base_uri": "https://localhost:8080/"
        },
        "outputId": "0518e890-0df7-47da-e354-93b7d237f9f5"
      },
      "source": [
        "# Criando os modelos\n",
        "for name, RegressorClass in estimators:\n",
        "  if name not in ignore_list:\n",
        "    print(f'Treinando Modelo {name}')\n",
        "    reg = RegressorClass()\n",
        "    reg.fit(X_train, y_train)\n",
        "\n",
        "    train_score = reg.score(X_train, y_train)\n",
        "    cv_scores = cross_val_score(reg, X_train, y_train)\n",
        "    test_score = reg.score(X_test, y_test)\n",
        "\n",
        "    print(f\"R2 Score Train: {train_score}\")\n",
        "    print(f\"R2 Score Valid: {np.mean(cv_scores):.2f} +- {np.std(cv_scores):.2f}\")\n",
        "    print(f\"R2 Score Test: {test_score}\")\n",
        "    print('='*80)\n",
        "\n",
        "    relatorio['nome'].append(name)\n",
        "    relatorio['train_score'].append(train_score)\n",
        "    relatorio['cv_scores_mean'].append(np.mean(cv_scores))\n",
        "    relatorio['test_score'].append(test_score)\n",
        "    relatorio['estimador'].append(reg)"
      ],
      "execution_count": 19,
      "outputs": [
        {
          "output_type": "stream",
          "text": [
            "Treinando Modelo ARDRegression\n",
            "R2 Score Train: 0.6949800511386295\n",
            "R2 Score Valid: 0.69 +- 0.04\n",
            "R2 Score Test: 0.5626085196812614\n",
            "================================================================================\n",
            "Treinando Modelo AdaBoostRegressor\n",
            "R2 Score Train: 0.7227109642770126\n",
            "R2 Score Valid: 0.67 +- 0.02\n",
            "R2 Score Test: 0.5987349402882008\n",
            "================================================================================\n",
            "Treinando Modelo BaggingRegressor\n",
            "R2 Score Train: 0.8909822029365575\n",
            "R2 Score Valid: 0.70 +- 0.02\n",
            "R2 Score Test: 0.6459046767997183\n",
            "================================================================================\n",
            "Treinando Modelo BayesianRidge\n",
            "R2 Score Train: 0.6949911822249593\n",
            "R2 Score Valid: 0.69 +- 0.04\n",
            "R2 Score Test: 0.5627539730309865\n",
            "================================================================================\n",
            "Treinando Modelo CCA\n"
          ],
          "name": "stdout"
        },
        {
          "output_type": "stream",
          "text": [
            "/usr/local/lib/python3.6/dist-packages/sklearn/cross_decomposition/_pls.py:321: UserWarning: Y residual constant at iteration 1\n",
            "  warnings.warn('Y residual constant at iteration %s' % k)\n",
            "/usr/local/lib/python3.6/dist-packages/sklearn/cross_decomposition/_pls.py:321: UserWarning: Y residual constant at iteration 1\n",
            "  warnings.warn('Y residual constant at iteration %s' % k)\n",
            "/usr/local/lib/python3.6/dist-packages/sklearn/cross_decomposition/_pls.py:321: UserWarning: Y residual constant at iteration 1\n",
            "  warnings.warn('Y residual constant at iteration %s' % k)\n",
            "/usr/local/lib/python3.6/dist-packages/sklearn/cross_decomposition/_pls.py:321: UserWarning: Y residual constant at iteration 1\n",
            "  warnings.warn('Y residual constant at iteration %s' % k)\n",
            "/usr/local/lib/python3.6/dist-packages/sklearn/cross_decomposition/_pls.py:321: UserWarning: Y residual constant at iteration 1\n",
            "  warnings.warn('Y residual constant at iteration %s' % k)\n",
            "/usr/local/lib/python3.6/dist-packages/sklearn/cross_decomposition/_pls.py:321: UserWarning: Y residual constant at iteration 1\n",
            "  warnings.warn('Y residual constant at iteration %s' % k)\n"
          ],
          "name": "stderr"
        },
        {
          "output_type": "stream",
          "text": [
            "R2 Score Train: 0.5268173739911579\n",
            "R2 Score Valid: 0.52 +- 0.05\n",
            "R2 Score Test: 0.4247894039998378\n",
            "================================================================================\n",
            "Treinando Modelo DecisionTreeRegressor\n",
            "R2 Score Train: 0.9216100052828616\n",
            "R2 Score Valid: 0.61 +- 0.04\n",
            "R2 Score Test: 0.5969019540428854\n",
            "================================================================================\n",
            "Treinando Modelo DummyRegressor\n",
            "R2 Score Train: 0.0\n",
            "R2 Score Valid: -0.01 +- 0.01\n",
            "R2 Score Test: -0.0013810536838241294\n",
            "================================================================================\n",
            "Treinando Modelo ElasticNetCV\n",
            "R2 Score Train: 0.6949788061574413\n",
            "R2 Score Valid: 0.69 +- 0.04\n",
            "R2 Score Test: 0.562556270900655\n",
            "================================================================================\n",
            "Treinando Modelo ExtraTreeRegressor\n",
            "R2 Score Train: 0.9216100052828616\n",
            "R2 Score Valid: 0.63 +- 0.05\n",
            "R2 Score Test: 0.5957530125634056\n",
            "================================================================================\n",
            "Treinando Modelo ExtraTreesRegressor\n",
            "R2 Score Train: 0.9216100052828616\n",
            "R2 Score Valid: 0.67 +- 0.02\n",
            "R2 Score Test: 0.6300444069881002\n",
            "================================================================================\n",
            "Treinando Modelo GaussianProcessRegressor\n",
            "R2 Score Train: 0.8261834894491148\n",
            "R2 Score Valid: -96045.91 +- 128609.13\n",
            "R2 Score Test: -34350.71313366961\n",
            "================================================================================\n",
            "Treinando Modelo GradientBoostingRegressor\n",
            "R2 Score Train: 0.827916398475484\n",
            "R2 Score Valid: 0.74 +- 0.01\n",
            "R2 Score Test: 0.6639379614568863\n",
            "================================================================================\n",
            "Treinando Modelo HistGradientBoostingRegressor\n",
            "R2 Score Train: 0.8378845337772923\n",
            "R2 Score Valid: 0.73 +- 0.02\n",
            "R2 Score Test: 0.6628372044846564\n",
            "================================================================================\n",
            "Treinando Modelo HuberRegressor\n",
            "R2 Score Train: 0.6891757245505378\n",
            "R2 Score Valid: 0.69 +- 0.04\n",
            "R2 Score Test: 0.547400986929404\n",
            "================================================================================\n",
            "Treinando Modelo KNeighborsRegressor\n",
            "R2 Score Train: 0.8066494487104069\n",
            "R2 Score Valid: 0.71 +- 0.02\n",
            "R2 Score Test: 0.6399890193124183\n",
            "================================================================================\n",
            "Treinando Modelo KernelRidge\n",
            "R2 Score Train: 0.6893999339223489\n",
            "R2 Score Valid: 0.68 +- 0.04\n",
            "R2 Score Test: 0.5527415622056278\n",
            "================================================================================\n",
            "Treinando Modelo Lars\n",
            "R2 Score Train: 0.6949996135157472\n",
            "R2 Score Valid: 0.69 +- 0.04\n",
            "R2 Score Test: 0.5629558167496815\n",
            "================================================================================\n",
            "Treinando Modelo LarsCV\n",
            "R2 Score Train: 0.6949996135157472\n",
            "R2 Score Valid: 0.69 +- 0.04\n",
            "R2 Score Test: 0.5629558167496815\n",
            "================================================================================\n",
            "Treinando Modelo Lasso\n",
            "R2 Score Train: 0.0\n",
            "R2 Score Valid: -0.01 +- 0.01\n",
            "R2 Score Test: -0.0013810536838241294\n",
            "================================================================================\n",
            "Treinando Modelo LassoCV\n",
            "R2 Score Train: 0.6949884060829883\n",
            "R2 Score Valid: 0.69 +- 0.04\n",
            "R2 Score Test: 0.5626554939081945\n",
            "================================================================================\n",
            "Treinando Modelo LassoLars\n",
            "R2 Score Train: 0.0\n",
            "R2 Score Valid: -0.01 +- 0.01\n",
            "R2 Score Test: -0.0013810536838241294\n",
            "================================================================================\n",
            "Treinando Modelo LassoLarsCV\n",
            "R2 Score Train: 0.6949996135157472\n",
            "R2 Score Valid: 0.69 +- 0.04\n",
            "R2 Score Test: 0.5629558167496815\n",
            "================================================================================\n",
            "Treinando Modelo LassoLarsIC\n",
            "R2 Score Train: 0.6949996135157472\n",
            "R2 Score Valid: 0.69 +- 0.04\n",
            "R2 Score Test: 0.5629558167496815\n",
            "================================================================================\n",
            "Treinando Modelo LinearRegression\n",
            "R2 Score Train: 0.6944799959879222\n",
            "R2 Score Valid: 0.69 +- 0.04\n",
            "R2 Score Test: 0.5604465174223303\n",
            "================================================================================\n",
            "Treinando Modelo LinearSVR\n",
            "R2 Score Train: 0.6879215016717117\n",
            "R2 Score Valid: 0.68 +- 0.04\n",
            "R2 Score Test: 0.5454308930577609\n",
            "================================================================================\n",
            "Treinando Modelo MLPRegressor\n"
          ],
          "name": "stdout"
        },
        {
          "output_type": "stream",
          "text": [
            "/usr/local/lib/python3.6/dist-packages/sklearn/svm/_base.py:947: ConvergenceWarning: Liblinear failed to converge, increase the number of iterations.\n",
            "  \"the number of iterations.\", ConvergenceWarning)\n",
            "/usr/local/lib/python3.6/dist-packages/sklearn/svm/_base.py:947: ConvergenceWarning: Liblinear failed to converge, increase the number of iterations.\n",
            "  \"the number of iterations.\", ConvergenceWarning)\n",
            "/usr/local/lib/python3.6/dist-packages/sklearn/svm/_base.py:947: ConvergenceWarning: Liblinear failed to converge, increase the number of iterations.\n",
            "  \"the number of iterations.\", ConvergenceWarning)\n",
            "/usr/local/lib/python3.6/dist-packages/sklearn/svm/_base.py:947: ConvergenceWarning: Liblinear failed to converge, increase the number of iterations.\n",
            "  \"the number of iterations.\", ConvergenceWarning)\n",
            "/usr/local/lib/python3.6/dist-packages/sklearn/svm/_base.py:947: ConvergenceWarning: Liblinear failed to converge, increase the number of iterations.\n",
            "  \"the number of iterations.\", ConvergenceWarning)\n",
            "/usr/local/lib/python3.6/dist-packages/sklearn/svm/_base.py:947: ConvergenceWarning: Liblinear failed to converge, increase the number of iterations.\n",
            "  \"the number of iterations.\", ConvergenceWarning)\n",
            "/usr/local/lib/python3.6/dist-packages/sklearn/neural_network/_multilayer_perceptron.py:571: ConvergenceWarning: Stochastic Optimizer: Maximum iterations (200) reached and the optimization hasn't converged yet.\n",
            "  % self.max_iter, ConvergenceWarning)\n",
            "/usr/local/lib/python3.6/dist-packages/sklearn/neural_network/_multilayer_perceptron.py:571: ConvergenceWarning: Stochastic Optimizer: Maximum iterations (200) reached and the optimization hasn't converged yet.\n",
            "  % self.max_iter, ConvergenceWarning)\n",
            "/usr/local/lib/python3.6/dist-packages/sklearn/neural_network/_multilayer_perceptron.py:571: ConvergenceWarning: Stochastic Optimizer: Maximum iterations (200) reached and the optimization hasn't converged yet.\n",
            "  % self.max_iter, ConvergenceWarning)\n",
            "/usr/local/lib/python3.6/dist-packages/sklearn/neural_network/_multilayer_perceptron.py:571: ConvergenceWarning: Stochastic Optimizer: Maximum iterations (200) reached and the optimization hasn't converged yet.\n",
            "  % self.max_iter, ConvergenceWarning)\n",
            "/usr/local/lib/python3.6/dist-packages/sklearn/neural_network/_multilayer_perceptron.py:571: ConvergenceWarning: Stochastic Optimizer: Maximum iterations (200) reached and the optimization hasn't converged yet.\n",
            "  % self.max_iter, ConvergenceWarning)\n"
          ],
          "name": "stderr"
        },
        {
          "output_type": "stream",
          "text": [
            "R2 Score Train: 0.7227757115921967\n",
            "R2 Score Valid: 0.70 +- 0.05\n",
            "R2 Score Test: 0.6050512661348435\n",
            "================================================================================\n",
            "Treinando Modelo NuSVR\n",
            "R2 Score Train: 0.7353168434788004\n",
            "R2 Score Valid: 0.73 +- 0.03\n",
            "R2 Score Test: 0.6448316482280202\n",
            "================================================================================\n",
            "Treinando Modelo OrthogonalMatchingPursuit\n",
            "R2 Score Train: 0.6256572870612799\n",
            "R2 Score Valid: 0.62 +- 0.04\n",
            "R2 Score Test: 0.4850259732055404\n",
            "================================================================================\n",
            "Treinando Modelo OrthogonalMatchingPursuitCV\n",
            "R2 Score Train: 0.6949996135157472\n",
            "R2 Score Valid: 0.69 +- 0.04\n",
            "R2 Score Test: 0.5629558167496815\n",
            "================================================================================\n",
            "Treinando Modelo PLSCanonical\n",
            "R2 Score Train: 0.3593709550845988\n",
            "R2 Score Valid: 0.35 +- 0.01\n",
            "R2 Score Test: 0.3414828762223163\n",
            "================================================================================\n",
            "Treinando Modelo PLSRegression\n",
            "R2 Score Train: 0.6884671082779386\n",
            "R2 Score Valid: 0.69 +- 0.04\n",
            "R2 Score Test: 0.5611160410265197\n",
            "================================================================================\n",
            "Treinando Modelo PassiveAggressiveRegressor\n",
            "R2 Score Train: 0.6536677259433654\n",
            "R2 Score Valid: 0.57 +- 0.14\n",
            "R2 Score Test: 0.5360731333058997\n",
            "================================================================================\n",
            "Treinando Modelo RANSACRegressor\n"
          ],
          "name": "stdout"
        },
        {
          "output_type": "stream",
          "text": [
            "/usr/local/lib/python3.6/dist-packages/sklearn/cross_decomposition/_pls.py:321: UserWarning: Y residual constant at iteration 1\n",
            "  warnings.warn('Y residual constant at iteration %s' % k)\n",
            "/usr/local/lib/python3.6/dist-packages/sklearn/cross_decomposition/_pls.py:321: UserWarning: Y residual constant at iteration 1\n",
            "  warnings.warn('Y residual constant at iteration %s' % k)\n",
            "/usr/local/lib/python3.6/dist-packages/sklearn/cross_decomposition/_pls.py:321: UserWarning: Y residual constant at iteration 1\n",
            "  warnings.warn('Y residual constant at iteration %s' % k)\n",
            "/usr/local/lib/python3.6/dist-packages/sklearn/cross_decomposition/_pls.py:321: UserWarning: Y residual constant at iteration 1\n",
            "  warnings.warn('Y residual constant at iteration %s' % k)\n",
            "/usr/local/lib/python3.6/dist-packages/sklearn/cross_decomposition/_pls.py:321: UserWarning: Y residual constant at iteration 1\n",
            "  warnings.warn('Y residual constant at iteration %s' % k)\n",
            "/usr/local/lib/python3.6/dist-packages/sklearn/cross_decomposition/_pls.py:321: UserWarning: Y residual constant at iteration 1\n",
            "  warnings.warn('Y residual constant at iteration %s' % k)\n"
          ],
          "name": "stderr"
        },
        {
          "output_type": "stream",
          "text": [
            "R2 Score Train: 0.663082470854452\n",
            "R2 Score Valid: 0.67 +- 0.05\n",
            "R2 Score Test: 0.5084429098734113\n",
            "================================================================================\n",
            "Treinando Modelo RandomForestRegressor\n",
            "R2 Score Train: 0.8997566341307691\n",
            "R2 Score Valid: 0.70 +- 0.02\n",
            "R2 Score Test: 0.6483247331998391\n",
            "================================================================================\n",
            "Treinando Modelo Ridge\n",
            "R2 Score Train: 0.6949954947925869\n",
            "R2 Score Valid: 0.69 +- 0.04\n",
            "R2 Score Test: 0.5628158188285834\n",
            "================================================================================\n",
            "Treinando Modelo RidgeCV\n",
            "R2 Score Train: 0.6949954947925867\n",
            "R2 Score Valid: 0.69 +- 0.04\n",
            "R2 Score Test: 0.5628158188285842\n",
            "================================================================================\n",
            "Treinando Modelo SGDRegressor\n",
            "R2 Score Train: 0.678695633313417\n",
            "R2 Score Valid: 0.67 +- 0.05\n",
            "R2 Score Test: 0.5381032582442044\n",
            "================================================================================\n",
            "Treinando Modelo SVR\n",
            "R2 Score Train: 0.7331335431720392\n",
            "R2 Score Valid: 0.72 +- 0.03\n",
            "R2 Score Test: 0.6424482920301618\n",
            "================================================================================\n",
            "Treinando Modelo TheilSenRegressor\n",
            "R2 Score Train: 0.6672597972850639\n",
            "R2 Score Valid: 0.67 +- 0.05\n",
            "R2 Score Test: 0.5178070551022393\n",
            "================================================================================\n",
            "Treinando Modelo TransformedTargetRegressor\n",
            "R2 Score Train: 0.6944799959879222\n",
            "R2 Score Valid: 0.69 +- 0.04\n",
            "R2 Score Test: 0.5604465174223303\n",
            "================================================================================\n",
            "Treinando Modelo LGBMRegressor\n",
            "R2 Score Train: 0.8335649897226411\n",
            "R2 Score Valid: 0.73 +- 0.01\n",
            "R2 Score Test: 0.6524018217807195\n",
            "================================================================================\n",
            "Treinando Modelo XGBRegressor\n",
            "[14:05:04] WARNING: /workspace/src/objective/regression_obj.cu:152: reg:linear is now deprecated in favor of reg:squarederror.\n",
            "[14:05:04] WARNING: /workspace/src/objective/regression_obj.cu:152: reg:linear is now deprecated in favor of reg:squarederror.\n",
            "[14:05:04] WARNING: /workspace/src/objective/regression_obj.cu:152: reg:linear is now deprecated in favor of reg:squarederror.\n",
            "[14:05:04] WARNING: /workspace/src/objective/regression_obj.cu:152: reg:linear is now deprecated in favor of reg:squarederror.\n",
            "[14:05:04] WARNING: /workspace/src/objective/regression_obj.cu:152: reg:linear is now deprecated in favor of reg:squarederror.\n",
            "[14:05:04] WARNING: /workspace/src/objective/regression_obj.cu:152: reg:linear is now deprecated in favor of reg:squarederror.\n",
            "R2 Score Train: 0.8173085197618972\n",
            "R2 Score Valid: 0.74 +- 0.01\n",
            "R2 Score Test: 0.6754518346344691\n",
            "================================================================================\n"
          ],
          "name": "stdout"
        }
      ]
    },
    {
      "cell_type": "markdown",
      "metadata": {
        "id": "4E8E96xUgdkD"
      },
      "source": [
        "## 4) Criando um relatório"
      ]
    },
    {
      "cell_type": "markdown",
      "metadata": {
        "id": "SOFv0uLBgq5Z"
      },
      "source": [
        "Para melhor avaliarmos as performances dos modelos podemos criar um relatório com os resultados finais de cada um deles."
      ]
    },
    {
      "cell_type": "code",
      "metadata": {
        "id": "7yzfWrylgjiN",
        "colab": {
          "base_uri": "https://localhost:8080/",
          "height": 359
        },
        "outputId": "393ed2b6-b223-4b4b-c159-46df0e37ceb2"
      },
      "source": [
        "relatorio = pd.DataFrame(relatorio).sort_values(by='cv_scores_mean', ascending=False)\n",
        "relatorio.head(10)"
      ],
      "execution_count": 20,
      "outputs": [
        {
          "output_type": "execute_result",
          "data": {
            "text/html": [
              "<div>\n",
              "<style scoped>\n",
              "    .dataframe tbody tr th:only-of-type {\n",
              "        vertical-align: middle;\n",
              "    }\n",
              "\n",
              "    .dataframe tbody tr th {\n",
              "        vertical-align: top;\n",
              "    }\n",
              "\n",
              "    .dataframe thead th {\n",
              "        text-align: right;\n",
              "    }\n",
              "</style>\n",
              "<table border=\"1\" class=\"dataframe\">\n",
              "  <thead>\n",
              "    <tr style=\"text-align: right;\">\n",
              "      <th></th>\n",
              "      <th>nome</th>\n",
              "      <th>train_score</th>\n",
              "      <th>cv_scores_mean</th>\n",
              "      <th>test_score</th>\n",
              "      <th>estimador</th>\n",
              "    </tr>\n",
              "  </thead>\n",
              "  <tbody>\n",
              "    <tr>\n",
              "      <th>11</th>\n",
              "      <td>GradientBoostingRegressor</td>\n",
              "      <td>0.827916</td>\n",
              "      <td>0.739262</td>\n",
              "      <td>0.663938</td>\n",
              "      <td>([DecisionTreeRegressor(ccp_alpha=0.0, criteri...</td>\n",
              "    </tr>\n",
              "    <tr>\n",
              "      <th>41</th>\n",
              "      <td>XGBRegressor</td>\n",
              "      <td>0.817309</td>\n",
              "      <td>0.738721</td>\n",
              "      <td>0.675452</td>\n",
              "      <td>XGBRegressor(base_score=0.5, booster='gbtree',...</td>\n",
              "    </tr>\n",
              "    <tr>\n",
              "      <th>40</th>\n",
              "      <td>LGBMRegressor</td>\n",
              "      <td>0.833565</td>\n",
              "      <td>0.731345</td>\n",
              "      <td>0.652402</td>\n",
              "      <td>LGBMRegressor(boosting_type='gbdt', class_weig...</td>\n",
              "    </tr>\n",
              "    <tr>\n",
              "      <th>12</th>\n",
              "      <td>HistGradientBoostingRegressor</td>\n",
              "      <td>0.837885</td>\n",
              "      <td>0.728931</td>\n",
              "      <td>0.662837</td>\n",
              "      <td>HistGradientBoostingRegressor(l2_regularizatio...</td>\n",
              "    </tr>\n",
              "    <tr>\n",
              "      <th>26</th>\n",
              "      <td>NuSVR</td>\n",
              "      <td>0.735317</td>\n",
              "      <td>0.726797</td>\n",
              "      <td>0.644832</td>\n",
              "      <td>NuSVR(C=1.0, cache_size=200, coef0=0.0, degree...</td>\n",
              "    </tr>\n",
              "    <tr>\n",
              "      <th>37</th>\n",
              "      <td>SVR</td>\n",
              "      <td>0.733134</td>\n",
              "      <td>0.723368</td>\n",
              "      <td>0.642448</td>\n",
              "      <td>SVR(C=1.0, cache_size=200, coef0=0.0, degree=3...</td>\n",
              "    </tr>\n",
              "    <tr>\n",
              "      <th>14</th>\n",
              "      <td>KNeighborsRegressor</td>\n",
              "      <td>0.806649</td>\n",
              "      <td>0.707182</td>\n",
              "      <td>0.639989</td>\n",
              "      <td>KNeighborsRegressor(algorithm='auto', leaf_siz...</td>\n",
              "    </tr>\n",
              "    <tr>\n",
              "      <th>33</th>\n",
              "      <td>RandomForestRegressor</td>\n",
              "      <td>0.899757</td>\n",
              "      <td>0.702190</td>\n",
              "      <td>0.648325</td>\n",
              "      <td>(DecisionTreeRegressor(ccp_alpha=0.0, criterio...</td>\n",
              "    </tr>\n",
              "    <tr>\n",
              "      <th>2</th>\n",
              "      <td>BaggingRegressor</td>\n",
              "      <td>0.890982</td>\n",
              "      <td>0.696480</td>\n",
              "      <td>0.645905</td>\n",
              "      <td>(DecisionTreeRegressor(ccp_alpha=0.0, criterio...</td>\n",
              "    </tr>\n",
              "    <tr>\n",
              "      <th>25</th>\n",
              "      <td>MLPRegressor</td>\n",
              "      <td>0.722776</td>\n",
              "      <td>0.695437</td>\n",
              "      <td>0.605051</td>\n",
              "      <td>MLPRegressor(activation='relu', alpha=0.0001, ...</td>\n",
              "    </tr>\n",
              "  </tbody>\n",
              "</table>\n",
              "</div>"
            ],
            "text/plain": [
              "                             nome  ...                                          estimador\n",
              "11      GradientBoostingRegressor  ...  ([DecisionTreeRegressor(ccp_alpha=0.0, criteri...\n",
              "41                   XGBRegressor  ...  XGBRegressor(base_score=0.5, booster='gbtree',...\n",
              "40                  LGBMRegressor  ...  LGBMRegressor(boosting_type='gbdt', class_weig...\n",
              "12  HistGradientBoostingRegressor  ...  HistGradientBoostingRegressor(l2_regularizatio...\n",
              "26                          NuSVR  ...  NuSVR(C=1.0, cache_size=200, coef0=0.0, degree...\n",
              "37                            SVR  ...  SVR(C=1.0, cache_size=200, coef0=0.0, degree=3...\n",
              "14            KNeighborsRegressor  ...  KNeighborsRegressor(algorithm='auto', leaf_siz...\n",
              "33          RandomForestRegressor  ...  (DecisionTreeRegressor(ccp_alpha=0.0, criterio...\n",
              "2                BaggingRegressor  ...  (DecisionTreeRegressor(ccp_alpha=0.0, criterio...\n",
              "25                   MLPRegressor  ...  MLPRegressor(activation='relu', alpha=0.0001, ...\n",
              "\n",
              "[10 rows x 5 columns]"
            ]
          },
          "metadata": {
            "tags": []
          },
          "execution_count": 20
        }
      ]
    },
    {
      "cell_type": "markdown",
      "metadata": {
        "id": "LoM--0kINQVR"
      },
      "source": [
        "## 5) Calibração do Modelo com GridSearchCV"
      ]
    },
    {
      "cell_type": "code",
      "metadata": {
        "id": "4Bs-3F4ONaic"
      },
      "source": [
        "# Importando a biblioteca\r\n",
        "from sklearn.model_selection import GridSearchCV"
      ],
      "execution_count": 21,
      "outputs": []
    },
    {
      "cell_type": "markdown",
      "metadata": {
        "id": "isB4PvtHJWad"
      },
      "source": [
        "### 5.1) Modelo XGBoost"
      ]
    },
    {
      "cell_type": "code",
      "metadata": {
        "id": "kw-4SeC3OPmY"
      },
      "source": [
        "# Definindo os parâmetros\r\n",
        "parameters = {\r\n",
        "    'n_estimators': [400, 700, 1000],\r\n",
        "    'colsample_bytree': [0.7, 0.8],\r\n",
        "    'max_depth': [15,20,25],\r\n",
        "    'reg_alpha': [1.1, 1.2, 1.3],\r\n",
        "    'reg_lambda': [1.1, 1.2, 1.3],\r\n",
        "    'subsample': [0.7, 0.8, 0.9]\r\n",
        "}\r\n",
        "\r\n",
        "# Criando o classificador\r\n",
        "xgb_reg = XGBRegressor(objective='reg:squarederror')\r\n",
        "\r\n",
        "# Criando o GridSearch\r\n",
        "gs = GridSearchCV(xgb_reg, parameters)"
      ],
      "execution_count": 22,
      "outputs": []
    },
    {
      "cell_type": "code",
      "metadata": {
        "colab": {
          "base_uri": "https://localhost:8080/"
        },
        "id": "EP_ZY3-hRHQd",
        "outputId": "811460a5-f4d5-452d-8395-256b7a34d25c"
      },
      "source": [
        "# Treinando o modelo\r\n",
        "gs.fit(X_train, y_train)"
      ],
      "execution_count": 23,
      "outputs": [
        {
          "output_type": "execute_result",
          "data": {
            "text/plain": [
              "GridSearchCV(cv=None, error_score=nan,\n",
              "             estimator=XGBRegressor(base_score=0.5, booster='gbtree',\n",
              "                                    colsample_bylevel=1, colsample_bynode=1,\n",
              "                                    colsample_bytree=1, gamma=0,\n",
              "                                    importance_type='gain', learning_rate=0.1,\n",
              "                                    max_delta_step=0, max_depth=3,\n",
              "                                    min_child_weight=1, missing=None,\n",
              "                                    n_estimators=100, n_jobs=1, nthread=None,\n",
              "                                    objective='reg:squarederror',\n",
              "                                    random_state=0, reg_alp...\n",
              "                                    scale_pos_weight=1, seed=None, silent=None,\n",
              "                                    subsample=1, verbosity=1),\n",
              "             iid='deprecated', n_jobs=None,\n",
              "             param_grid={'colsample_bytree': [0.7, 0.8],\n",
              "                         'max_depth': [15, 20, 25],\n",
              "                         'n_estimators': [400, 700, 1000],\n",
              "                         'reg_alpha': [1.1, 1.2, 1.3],\n",
              "                         'reg_lambda': [1.1, 1.2, 1.3],\n",
              "                         'subsample': [0.7, 0.8, 0.9]},\n",
              "             pre_dispatch='2*n_jobs', refit=True, return_train_score=False,\n",
              "             scoring=None, verbose=0)"
            ]
          },
          "metadata": {
            "tags": []
          },
          "execution_count": 23
        }
      ]
    },
    {
      "cell_type": "code",
      "metadata": {
        "colab": {
          "base_uri": "https://localhost:8080/"
        },
        "id": "SqyUqZ0NRoH2",
        "outputId": "ec284219-30c2-4ebe-f515-dc885df7ae0e"
      },
      "source": [
        "# Verificando o melhor estimador\r\n",
        "best_gs = gs.best_estimator_\r\n",
        "best_gs"
      ],
      "execution_count": 24,
      "outputs": [
        {
          "output_type": "execute_result",
          "data": {
            "text/plain": [
              "XGBRegressor(base_score=0.5, booster='gbtree', colsample_bylevel=1,\n",
              "             colsample_bynode=1, colsample_bytree=0.7, gamma=0,\n",
              "             importance_type='gain', learning_rate=0.1, max_delta_step=0,\n",
              "             max_depth=15, min_child_weight=1, missing=None, n_estimators=400,\n",
              "             n_jobs=1, nthread=None, objective='reg:squarederror',\n",
              "             random_state=0, reg_alpha=1.3, reg_lambda=1.2, scale_pos_weight=1,\n",
              "             seed=None, silent=None, subsample=0.7, verbosity=1)"
            ]
          },
          "metadata": {
            "tags": []
          },
          "execution_count": 24
        }
      ]
    },
    {
      "cell_type": "code",
      "metadata": {
        "id": "S_Ag9_cHYCoy",
        "colab": {
          "base_uri": "https://localhost:8080/"
        },
        "outputId": "0443342f-2288-4093-f8d4-cede4729c65a"
      },
      "source": [
        "# Verificando a melhor pontuação\r\n",
        "gs.best_score_"
      ],
      "execution_count": 25,
      "outputs": [
        {
          "output_type": "execute_result",
          "data": {
            "text/plain": [
              "0.7272645195429972"
            ]
          },
          "metadata": {
            "tags": []
          },
          "execution_count": 25
        }
      ]
    },
    {
      "cell_type": "code",
      "metadata": {
        "colab": {
          "base_uri": "https://localhost:8080/"
        },
        "id": "6He6wafR7A4y",
        "outputId": "d09fd863-33e4-4256-e0d3-0cf9a86a65fa"
      },
      "source": [
        "# Score na base de teste\r\n",
        "best_gs.score(X_test, y_test)"
      ],
      "execution_count": 26,
      "outputs": [
        {
          "output_type": "execute_result",
          "data": {
            "text/plain": [
              "0.6596895056107179"
            ]
          },
          "metadata": {
            "tags": []
          },
          "execution_count": 26
        }
      ]
    },
    {
      "cell_type": "markdown",
      "metadata": {
        "id": "EQ3HqY39JcNP"
      },
      "source": [
        "### 5.2) Modelo Gradient Boost"
      ]
    },
    {
      "cell_type": "code",
      "metadata": {
        "id": "t7iNu_IH7IH3"
      },
      "source": [
        "# Definindo os parâmetros\r\n",
        "param_grid = {\r\n",
        "    'max_depth': [80, 90, 100, 110],\r\n",
        "    'max_features': [2, 3],\r\n",
        "    'min_samples_leaf': [3, 4, 5],\r\n",
        "    'min_samples_split': [8, 10, 12],\r\n",
        "    'n_estimators': [100, 200, 300, 1000]\r\n",
        "}\r\n",
        "\r\n",
        "# Criando o classificador\r\n",
        "gbr_reg = GradientBoostingRegressor()\r\n",
        "\r\n",
        "# Criando o GridSearch\r\n",
        "gbr_gs = GridSearchCV(gbr_reg, param_grid)"
      ],
      "execution_count": 27,
      "outputs": []
    },
    {
      "cell_type": "code",
      "metadata": {
        "colab": {
          "base_uri": "https://localhost:8080/"
        },
        "id": "EwjttvW8LLqy",
        "outputId": "74cc5929-f6e6-4adf-a45d-175be1b91925"
      },
      "source": [
        "# Treinando o modelo\r\n",
        "gbr_gs.fit(X_train, y_train)"
      ],
      "execution_count": 28,
      "outputs": [
        {
          "output_type": "execute_result",
          "data": {
            "text/plain": [
              "GridSearchCV(cv=None, error_score=nan,\n",
              "             estimator=GradientBoostingRegressor(alpha=0.9, ccp_alpha=0.0,\n",
              "                                                 criterion='friedman_mse',\n",
              "                                                 init=None, learning_rate=0.1,\n",
              "                                                 loss='ls', max_depth=3,\n",
              "                                                 max_features=None,\n",
              "                                                 max_leaf_nodes=None,\n",
              "                                                 min_impurity_decrease=0.0,\n",
              "                                                 min_impurity_split=None,\n",
              "                                                 min_samples_leaf=1,\n",
              "                                                 min_samples_split=2,\n",
              "                                                 min_weight_fraction_leaf=0.0,\n",
              "                                                 n_estimators=100,\n",
              "                                                 n_ite...\n",
              "                                                 random_state=None,\n",
              "                                                 subsample=1.0, tol=0.0001,\n",
              "                                                 validation_fraction=0.1,\n",
              "                                                 verbose=0, warm_start=False),\n",
              "             iid='deprecated', n_jobs=None,\n",
              "             param_grid={'max_depth': [80, 90, 100, 110],\n",
              "                         'max_features': [2, 3], 'min_samples_leaf': [3, 4, 5],\n",
              "                         'min_samples_split': [8, 10, 12],\n",
              "                         'n_estimators': [100, 200, 300, 1000]},\n",
              "             pre_dispatch='2*n_jobs', refit=True, return_train_score=False,\n",
              "             scoring=None, verbose=0)"
            ]
          },
          "metadata": {
            "tags": []
          },
          "execution_count": 28
        }
      ]
    },
    {
      "cell_type": "code",
      "metadata": {
        "colab": {
          "base_uri": "https://localhost:8080/"
        },
        "id": "BRDAxs0pLNvk",
        "outputId": "f3248600-a094-4c74-bbc3-197cfcd6440c"
      },
      "source": [
        "# Verificando o melhor estimador\r\n",
        "best_gbr_gs = gbr_gs.best_estimator_\r\n",
        "best_gbr_gs"
      ],
      "execution_count": 29,
      "outputs": [
        {
          "output_type": "execute_result",
          "data": {
            "text/plain": [
              "GradientBoostingRegressor(alpha=0.9, ccp_alpha=0.0, criterion='friedman_mse',\n",
              "                          init=None, learning_rate=0.1, loss='ls',\n",
              "                          max_depth=100, max_features=2, max_leaf_nodes=None,\n",
              "                          min_impurity_decrease=0.0, min_impurity_split=None,\n",
              "                          min_samples_leaf=5, min_samples_split=8,\n",
              "                          min_weight_fraction_leaf=0.0, n_estimators=100,\n",
              "                          n_iter_no_change=None, presort='deprecated',\n",
              "                          random_state=None, subsample=1.0, tol=0.0001,\n",
              "                          validation_fraction=0.1, verbose=0, warm_start=False)"
            ]
          },
          "metadata": {
            "tags": []
          },
          "execution_count": 29
        }
      ]
    },
    {
      "cell_type": "code",
      "metadata": {
        "colab": {
          "base_uri": "https://localhost:8080/"
        },
        "id": "nikJwk7BOVFF",
        "outputId": "3b7e29b2-80a1-4e69-bcba-5c24200840a6"
      },
      "source": [
        "# Verificando a melhor pontuação\r\n",
        "gbr_gs.best_score_"
      ],
      "execution_count": 30,
      "outputs": [
        {
          "output_type": "execute_result",
          "data": {
            "text/plain": [
              "0.7091683963726417"
            ]
          },
          "metadata": {
            "tags": []
          },
          "execution_count": 30
        }
      ]
    },
    {
      "cell_type": "code",
      "metadata": {
        "colab": {
          "base_uri": "https://localhost:8080/"
        },
        "id": "vHGcwDYXOa92",
        "outputId": "7d6d4a28-46cf-4170-a66a-36c7c4cf795e"
      },
      "source": [
        "# Score na base de teste\r\n",
        "best_gbr_gs.score(X_test, y_test)"
      ],
      "execution_count": 31,
      "outputs": [
        {
          "output_type": "execute_result",
          "data": {
            "text/plain": [
              "0.6536582862514058"
            ]
          },
          "metadata": {
            "tags": []
          },
          "execution_count": 31
        }
      ]
    },
    {
      "cell_type": "markdown",
      "metadata": {
        "id": "d5dDDWGXQP6F"
      },
      "source": [
        "## 6) Salvando o melhor modelo"
      ]
    },
    {
      "cell_type": "markdown",
      "metadata": {
        "id": "oOe9OKa7RJxG"
      },
      "source": [
        "Iremos exportar o Gradient Boost original uma vez que ele apresentou melhores resultados do que a versão com grid search. Para isso iremos recriar o modelo."
      ]
    },
    {
      "cell_type": "code",
      "metadata": {
        "id": "3UKYDCW0RWhL",
        "colab": {
          "base_uri": "https://localhost:8080/"
        },
        "outputId": "6316120e-cabf-4c16-c601-7b076d7df91f"
      },
      "source": [
        "# Recriando o modelo\r\n",
        "best_gb = GradientBoostingRegressor()\r\n",
        "best_gb.fit(X_train, y_train)"
      ],
      "execution_count": 32,
      "outputs": [
        {
          "output_type": "execute_result",
          "data": {
            "text/plain": [
              "GradientBoostingRegressor(alpha=0.9, ccp_alpha=0.0, criterion='friedman_mse',\n",
              "                          init=None, learning_rate=0.1, loss='ls', max_depth=3,\n",
              "                          max_features=None, max_leaf_nodes=None,\n",
              "                          min_impurity_decrease=0.0, min_impurity_split=None,\n",
              "                          min_samples_leaf=1, min_samples_split=2,\n",
              "                          min_weight_fraction_leaf=0.0, n_estimators=100,\n",
              "                          n_iter_no_change=None, presort='deprecated',\n",
              "                          random_state=None, subsample=1.0, tol=0.0001,\n",
              "                          validation_fraction=0.1, verbose=0, warm_start=False)"
            ]
          },
          "metadata": {
            "tags": []
          },
          "execution_count": 32
        }
      ]
    },
    {
      "cell_type": "code",
      "metadata": {
        "id": "h03_fUbTQPgf"
      },
      "source": [
        "# Importando a biblioteca\r\n",
        "import pickle"
      ],
      "execution_count": 33,
      "outputs": []
    },
    {
      "cell_type": "code",
      "metadata": {
        "id": "k9diqqPsQYdM"
      },
      "source": [
        "# Exportando o modelo\r\n",
        "pickle.dump(best_gb, open('gb_regressor.pkl', 'wb'), protocol=4)"
      ],
      "execution_count": 34,
      "outputs": []
    }
  ]
}